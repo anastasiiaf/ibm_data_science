{
  "nbformat": 4,
  "nbformat_minor": 0,
  "metadata": {
    "kernelspec": {
      "display_name": "Python 3",
      "language": "python",
      "name": "python3"
    },
    "language_info": {
      "codemirror_mode": {
        "name": "ipython",
        "version": 3
      },
      "file_extension": ".py",
      "mimetype": "text/x-python",
      "name": "python",
      "nbconvert_exporter": "python",
      "pygments_lexer": "ipython3",
      "version": "3.7.6"
    },
    "colab": {
      "name": "PY0101EN-5-2-Numpy2D.ipynb",
      "provenance": [],
      "include_colab_link": true
    }
  },
  "cells": [
    {
      "cell_type": "markdown",
      "metadata": {
        "id": "view-in-github",
        "colab_type": "text"
      },
      "source": [
        "<a href=\"https://colab.research.google.com/github/anastasiiaf/ibm_data_science/blob/master/PY0101EN_5_2_Numpy2D.ipynb\" target=\"_parent\"><img src=\"https://colab.research.google.com/assets/colab-badge.svg\" alt=\"Open In Colab\"/></a>"
      ]
    },
    {
      "cell_type": "markdown",
      "metadata": {
        "id": "5bzqXiE5mue7"
      },
      "source": [
        "<center>\n",
        "    <img src=\"https://cf-courses-data.s3.us.cloud-object-storage.appdomain.cloud/IBMDeveloperSkillsNetwork-PY0101EN-SkillsNetwork/IDSNlogo.png\" width=\"300\" alt=\"cognitiveclass.ai logo\"  />\n",
        "</center>\n",
        "\n",
        "# 2D Numpy in Python\n",
        "\n",
        "Estimated time needed: **20** minutes\n",
        "\n",
        "## Objectives\n",
        "\n",
        "After completing this lab you will be able to:\n",
        "\n",
        "*   Operate comfortably with `numpy`\n",
        "*   Perform complex operations with `numpy`\n"
      ]
    },
    {
      "cell_type": "markdown",
      "metadata": {
        "id": "STQmkxSMmufH"
      },
      "source": [
        "<h2>Table of Contents</h2>\n",
        "<div class=\"alert alert-block alert-info\" style=\"margin-top: 20px\">\n",
        "    <ul>\n",
        "        <li><a href=\"create\">Create a 2D Numpy Array</a></li>\n",
        "        <li><a href=\"access\">Accessing different elements of a Numpy Array</a></li>\n",
        "        <li><a href=\"op\">Basic Operations</a></li>\n",
        "    </ul>\n",
        "\n",
        "</div>\n",
        "\n",
        "<hr>\n"
      ]
    },
    {
      "cell_type": "markdown",
      "metadata": {
        "id": "riZ4JvVsmufJ"
      },
      "source": [
        "<h2 id=\"create\">Create a 2D Numpy Array</h2>\n"
      ]
    },
    {
      "cell_type": "code",
      "metadata": {
        "id": "DZxOjRglmufK"
      },
      "source": [
        "# Import the libraries\n",
        "\n",
        "import numpy as np \n",
        "import matplotlib.pyplot as plt"
      ],
      "execution_count": 1,
      "outputs": []
    },
    {
      "cell_type": "markdown",
      "metadata": {
        "id": "yk7dd7HMmufL"
      },
      "source": [
        "Consider the list <code>a</code>, which contains three nested lists **each of equal size**.\n"
      ]
    },
    {
      "cell_type": "code",
      "metadata": {
        "colab": {
          "base_uri": "https://localhost:8080/"
        },
        "id": "YmlWZ25gmufN",
        "outputId": "d2ed6182-d88e-4898-9b7c-5679459f5a3e"
      },
      "source": [
        "# Create a list\n",
        "\n",
        "a = [[11, 12, 13], [21, 22, 23], [31, 32, 33]]\n",
        "a"
      ],
      "execution_count": 2,
      "outputs": [
        {
          "output_type": "execute_result",
          "data": {
            "text/plain": [
              "[[11, 12, 13], [21, 22, 23], [31, 32, 33]]"
            ]
          },
          "metadata": {
            "tags": []
          },
          "execution_count": 2
        }
      ]
    },
    {
      "cell_type": "markdown",
      "metadata": {
        "id": "uCjp_SrjmufO"
      },
      "source": [
        "We can cast the list to a Numpy Array as follows:\n"
      ]
    },
    {
      "cell_type": "code",
      "metadata": {
        "colab": {
          "base_uri": "https://localhost:8080/"
        },
        "id": "3E4nQ49pmufP",
        "outputId": "e37186cf-97d6-4abe-a956-26b56c6f7be5"
      },
      "source": [
        "# Convert list to Numpy Array\n",
        "# Every element is the same type\n",
        "\n",
        "A = np.array(a)\n",
        "A"
      ],
      "execution_count": 3,
      "outputs": [
        {
          "output_type": "execute_result",
          "data": {
            "text/plain": [
              "array([[11, 12, 13],\n",
              "       [21, 22, 23],\n",
              "       [31, 32, 33]])"
            ]
          },
          "metadata": {
            "tags": []
          },
          "execution_count": 3
        }
      ]
    },
    {
      "cell_type": "markdown",
      "metadata": {
        "id": "LmCH1183mufR"
      },
      "source": [
        "We can use the attribute <code>ndim</code> to obtain the number of axes or dimensions, referred to as the rank.\n"
      ]
    },
    {
      "cell_type": "code",
      "metadata": {
        "colab": {
          "base_uri": "https://localhost:8080/"
        },
        "id": "YzHRaSB8mufS",
        "outputId": "700d6750-ae24-4624-c0a2-2e9ab1c8cc95"
      },
      "source": [
        "# Show the numpy array dimensions\n",
        "\n",
        "A.ndim"
      ],
      "execution_count": 4,
      "outputs": [
        {
          "output_type": "execute_result",
          "data": {
            "text/plain": [
              "2"
            ]
          },
          "metadata": {
            "tags": []
          },
          "execution_count": 4
        }
      ]
    },
    {
      "cell_type": "markdown",
      "metadata": {
        "id": "wyvdV22bmufT"
      },
      "source": [
        "Attribute <code>shape</code> returns a tuple corresponding to the size or number of each dimension.\n"
      ]
    },
    {
      "cell_type": "code",
      "metadata": {
        "colab": {
          "base_uri": "https://localhost:8080/"
        },
        "id": "zvMULpThmufU",
        "outputId": "e6743741-bf0d-4e20-f236-1e6692398b60"
      },
      "source": [
        "# Show the numpy array shape\n",
        "\n",
        "A.shape"
      ],
      "execution_count": 5,
      "outputs": [
        {
          "output_type": "execute_result",
          "data": {
            "text/plain": [
              "(3, 3)"
            ]
          },
          "metadata": {
            "tags": []
          },
          "execution_count": 5
        }
      ]
    },
    {
      "cell_type": "markdown",
      "metadata": {
        "id": "bND5NfqdmufU"
      },
      "source": [
        "The total number of elements in the array is given by the attribute <code>size</code>.\n"
      ]
    },
    {
      "cell_type": "code",
      "metadata": {
        "colab": {
          "base_uri": "https://localhost:8080/"
        },
        "id": "kQDGaGEqmufV",
        "outputId": "7e2d952a-7a7f-4f8d-8806-ca241f73f4cb"
      },
      "source": [
        "# Show the numpy array size\n",
        "\n",
        "A.size"
      ],
      "execution_count": 6,
      "outputs": [
        {
          "output_type": "execute_result",
          "data": {
            "text/plain": [
              "9"
            ]
          },
          "metadata": {
            "tags": []
          },
          "execution_count": 6
        }
      ]
    },
    {
      "cell_type": "markdown",
      "metadata": {
        "id": "Tr70i7LgmufW"
      },
      "source": [
        "<hr>\n"
      ]
    },
    {
      "cell_type": "markdown",
      "metadata": {
        "id": "dqhWG_ISmufX"
      },
      "source": [
        "<h2 id=\"access\">Accessing different elements of a Numpy Array</h2>\n"
      ]
    },
    {
      "cell_type": "markdown",
      "metadata": {
        "id": "M5a5xpUGmufY"
      },
      "source": [
        "We can use rectangular brackets to access the different elements of the array. The correspondence between the rectangular brackets and the list and the rectangular representation is shown in the following figure for a 3x3 array:\n"
      ]
    },
    {
      "cell_type": "markdown",
      "metadata": {
        "id": "udjvbxUBmufZ"
      },
      "source": [
        "<img src=\"https://cf-courses-data.s3.us.cloud-object-storage.appdomain.cloud/IBMDeveloperSkillsNetwork-PY0101EN-SkillsNetwork/labs/Module%205/images/NumTwoEg.png\" width=\"500\" />\n"
      ]
    },
    {
      "cell_type": "markdown",
      "metadata": {
        "id": "MBTcfVMlmufZ"
      },
      "source": [
        "We can access the 2nd-row, 3rd column as shown in the following figure:\n"
      ]
    },
    {
      "cell_type": "markdown",
      "metadata": {
        "id": "smbDGhdVmufa"
      },
      "source": [
        "<img src=\"https://cf-courses-data.s3.us.cloud-object-storage.appdomain.cloud/IBMDeveloperSkillsNetwork-PY0101EN-SkillsNetwork/labs/Module%205/images/NumTwoFT.png\" width=\"400\" />\n"
      ]
    },
    {
      "cell_type": "markdown",
      "metadata": {
        "id": "89goss-mmufb"
      },
      "source": [
        "We simply use the square brackets and the indices corresponding to the element we would like:\n"
      ]
    },
    {
      "cell_type": "code",
      "metadata": {
        "colab": {
          "base_uri": "https://localhost:8080/"
        },
        "id": "VjAKIrZ3mufb",
        "outputId": "d645512c-9ab7-43e7-c0a3-38dcd90e5b81"
      },
      "source": [
        "# Access the element on the second row and third column\n",
        "\n",
        "A[1, 2]"
      ],
      "execution_count": 7,
      "outputs": [
        {
          "output_type": "execute_result",
          "data": {
            "text/plain": [
              "23"
            ]
          },
          "metadata": {
            "tags": []
          },
          "execution_count": 7
        }
      ]
    },
    {
      "cell_type": "markdown",
      "metadata": {
        "id": "UxbomuCnmufc"
      },
      "source": [
        "We can also use the following notation to obtain the elements:\n"
      ]
    },
    {
      "cell_type": "code",
      "metadata": {
        "colab": {
          "base_uri": "https://localhost:8080/"
        },
        "id": "PJ45fUQhmufc",
        "outputId": "5d89629f-90be-4b31-c19f-c5268c5fc4ff"
      },
      "source": [
        "# Access the element on the second row and third column\n",
        "\n",
        "A[1][2]"
      ],
      "execution_count": 8,
      "outputs": [
        {
          "output_type": "execute_result",
          "data": {
            "text/plain": [
              "23"
            ]
          },
          "metadata": {
            "tags": []
          },
          "execution_count": 8
        }
      ]
    },
    {
      "cell_type": "markdown",
      "metadata": {
        "id": "8gAvainWmufd"
      },
      "source": [
        "Consider the elements shown in the following figure\n"
      ]
    },
    {
      "cell_type": "markdown",
      "metadata": {
        "id": "sQ6U9sNtmufd"
      },
      "source": [
        "<img src=\"https://cf-courses-data.s3.us.cloud-object-storage.appdomain.cloud/IBMDeveloperSkillsNetwork-PY0101EN-SkillsNetwork/labs/Module%205/images/NumTwoFF.png\" width=\"400\" />\n"
      ]
    },
    {
      "cell_type": "markdown",
      "metadata": {
        "id": "1YnMAuPjmufe"
      },
      "source": [
        "We can access the element as follows:\n"
      ]
    },
    {
      "cell_type": "code",
      "metadata": {
        "colab": {
          "base_uri": "https://localhost:8080/"
        },
        "id": "DR5iTSNnmuff",
        "outputId": "a60b1a75-f242-44d9-f40e-65fa59d3e6b2"
      },
      "source": [
        "# Access the element on the first row and first column\n",
        "\n",
        "A[0][0]"
      ],
      "execution_count": 9,
      "outputs": [
        {
          "output_type": "execute_result",
          "data": {
            "text/plain": [
              "11"
            ]
          },
          "metadata": {
            "tags": []
          },
          "execution_count": 9
        }
      ]
    },
    {
      "cell_type": "markdown",
      "metadata": {
        "id": "3wacqhOCmuff"
      },
      "source": [
        "We can also use slicing in numpy arrays. Consider the following figure. We would like to obtain the first two columns in the first row\n"
      ]
    },
    {
      "cell_type": "markdown",
      "metadata": {
        "id": "UB8oRDljmufh"
      },
      "source": [
        "<img src=\"https://cf-courses-data.s3.us.cloud-object-storage.appdomain.cloud/IBMDeveloperSkillsNetwork-PY0101EN-SkillsNetwork/labs/Module%205/images/NumTwoFSF.png\" width=\"400\" />\n"
      ]
    },
    {
      "cell_type": "markdown",
      "metadata": {
        "id": "x_00yohFmufi"
      },
      "source": [
        "This can be done with the following syntax:\n"
      ]
    },
    {
      "cell_type": "code",
      "metadata": {
        "colab": {
          "base_uri": "https://localhost:8080/"
        },
        "id": "qX8gxW7gmufi",
        "outputId": "97b206bf-70c3-4adc-e242-4c2cb071a3ae"
      },
      "source": [
        "# Access the element on the first row and first and second columns\n",
        "\n",
        "A[0][0:2]"
      ],
      "execution_count": 10,
      "outputs": [
        {
          "output_type": "execute_result",
          "data": {
            "text/plain": [
              "array([11, 12])"
            ]
          },
          "metadata": {
            "tags": []
          },
          "execution_count": 10
        }
      ]
    },
    {
      "cell_type": "markdown",
      "metadata": {
        "id": "WwidilEOmufj"
      },
      "source": [
        "Similarly, we can obtain the first two rows of the 3rd column as follows:\n"
      ]
    },
    {
      "cell_type": "code",
      "metadata": {
        "colab": {
          "base_uri": "https://localhost:8080/"
        },
        "id": "uHjsNzhXmufk",
        "outputId": "5824689b-6966-4952-f45b-c60f638fe7fd"
      },
      "source": [
        "# Access the element on the first and second rows and third column\n",
        "\n",
        "A[0:2, 2]"
      ],
      "execution_count": 11,
      "outputs": [
        {
          "output_type": "execute_result",
          "data": {
            "text/plain": [
              "array([13, 23])"
            ]
          },
          "metadata": {
            "tags": []
          },
          "execution_count": 11
        }
      ]
    },
    {
      "cell_type": "markdown",
      "metadata": {
        "id": "Bl1ICxEkmufk"
      },
      "source": [
        "Corresponding to the following figure:\n"
      ]
    },
    {
      "cell_type": "markdown",
      "metadata": {
        "id": "fmcF9bYsmufl"
      },
      "source": [
        "<img src=\"https://cf-courses-data.s3.us.cloud-object-storage.appdomain.cloud/IBMDeveloperSkillsNetwork-PY0101EN-SkillsNetwork/labs/Module%205/images/2D_numpy.png\" width=\"550\"><br />\n"
      ]
    },
    {
      "cell_type": "markdown",
      "metadata": {
        "id": "Rp2Q-jH3mufl"
      },
      "source": [
        "<h2 id=\"op\">Basic Operations</h2>\n"
      ]
    },
    {
      "cell_type": "markdown",
      "metadata": {
        "id": "mVI_QZ5Nmufm"
      },
      "source": [
        "We can also add arrays. The process is identical to matrix addition. Matrix addition of <code>X</code> and <code>Y</code> is shown in the following figure:\n"
      ]
    },
    {
      "cell_type": "markdown",
      "metadata": {
        "id": "zWSUy8gQmufm"
      },
      "source": [
        "<img src=\"https://cf-courses-data.s3.us.cloud-object-storage.appdomain.cloud/IBMDeveloperSkillsNetwork-PY0101EN-SkillsNetwork/labs/Module%205/images/NumTwoAdd.png\" width=\"500\" />\n"
      ]
    },
    {
      "cell_type": "markdown",
      "metadata": {
        "id": "so5fKDdkmufn"
      },
      "source": [
        "The numpy array is given by <code>X</code> and <code>Y</code>\n"
      ]
    },
    {
      "cell_type": "code",
      "metadata": {
        "colab": {
          "base_uri": "https://localhost:8080/"
        },
        "id": "bYMxDypvmufo",
        "outputId": "d2a41eff-a4a5-4c8f-d4cf-49062d9f0dfe"
      },
      "source": [
        "# Create a numpy array X\n",
        "\n",
        "X = np.array([[1, 0], [0, 1]]) \n",
        "X"
      ],
      "execution_count": 12,
      "outputs": [
        {
          "output_type": "execute_result",
          "data": {
            "text/plain": [
              "array([[1, 0],\n",
              "       [0, 1]])"
            ]
          },
          "metadata": {
            "tags": []
          },
          "execution_count": 12
        }
      ]
    },
    {
      "cell_type": "code",
      "metadata": {
        "colab": {
          "base_uri": "https://localhost:8080/"
        },
        "id": "FL01tseQmufo",
        "outputId": "2e5349cd-7a2f-4d85-ec31-a8b90f034588"
      },
      "source": [
        "# Create a numpy array Y\n",
        "\n",
        "Y = np.array([[2, 1], [1, 2]]) \n",
        "Y"
      ],
      "execution_count": 13,
      "outputs": [
        {
          "output_type": "execute_result",
          "data": {
            "text/plain": [
              "array([[2, 1],\n",
              "       [1, 2]])"
            ]
          },
          "metadata": {
            "tags": []
          },
          "execution_count": 13
        }
      ]
    },
    {
      "cell_type": "markdown",
      "metadata": {
        "id": "iEQxOARrmufp"
      },
      "source": [
        "We can add the numpy arrays as follows.\n"
      ]
    },
    {
      "cell_type": "code",
      "metadata": {
        "colab": {
          "base_uri": "https://localhost:8080/"
        },
        "id": "rtxBnPpzmufq",
        "outputId": "6bab4d77-6fd2-4c43-cbf4-98c324193d19"
      },
      "source": [
        "# Add X and Y\n",
        "\n",
        "Z = X + Y\n",
        "Z"
      ],
      "execution_count": 14,
      "outputs": [
        {
          "output_type": "execute_result",
          "data": {
            "text/plain": [
              "array([[3, 1],\n",
              "       [1, 3]])"
            ]
          },
          "metadata": {
            "tags": []
          },
          "execution_count": 14
        }
      ]
    },
    {
      "cell_type": "markdown",
      "metadata": {
        "id": "daAFY9ydmufr"
      },
      "source": [
        "Multiplying a numpy array by a scaler is identical to multiplying a matrix by a scaler. If we multiply the matrix <code>Y</code> by the scaler 2, we simply multiply every element in the matrix by 2, as shown in the figure.\n"
      ]
    },
    {
      "cell_type": "markdown",
      "metadata": {
        "id": "mA8ggBUYmufs"
      },
      "source": [
        "<img src=\"https://cf-courses-data.s3.us.cloud-object-storage.appdomain.cloud/IBMDeveloperSkillsNetwork-PY0101EN-SkillsNetwork/labs/Module%205/images/NumTwoDb.png\" width=\"500\" />\n"
      ]
    },
    {
      "cell_type": "markdown",
      "metadata": {
        "id": "NMXgO5HFmuft"
      },
      "source": [
        "We can perform the same operation in numpy as follows\n"
      ]
    },
    {
      "cell_type": "code",
      "metadata": {
        "colab": {
          "base_uri": "https://localhost:8080/"
        },
        "id": "bkr9rtiQmuft",
        "outputId": "0b91d67a-c918-4d90-e40c-af0e2607a7d0"
      },
      "source": [
        "# Create a numpy array Y\n",
        "\n",
        "Y = np.array([[2, 1], [1, 2]]) \n",
        "Y"
      ],
      "execution_count": 15,
      "outputs": [
        {
          "output_type": "execute_result",
          "data": {
            "text/plain": [
              "array([[2, 1],\n",
              "       [1, 2]])"
            ]
          },
          "metadata": {
            "tags": []
          },
          "execution_count": 15
        }
      ]
    },
    {
      "cell_type": "code",
      "metadata": {
        "colab": {
          "base_uri": "https://localhost:8080/"
        },
        "id": "7CA8D1pwmufu",
        "outputId": "d191faf1-d830-4b81-c4b9-f9074382f00c"
      },
      "source": [
        "# Multiply Y with 2\n",
        "\n",
        "Z = 2 * Y\n",
        "Z"
      ],
      "execution_count": 16,
      "outputs": [
        {
          "output_type": "execute_result",
          "data": {
            "text/plain": [
              "array([[4, 2],\n",
              "       [2, 4]])"
            ]
          },
          "metadata": {
            "tags": []
          },
          "execution_count": 16
        }
      ]
    },
    {
      "cell_type": "markdown",
      "metadata": {
        "id": "Md_jmGhBmufv"
      },
      "source": [
        "Multiplication of two arrays corresponds to an element-wise product or <em>Hadamard product</em>. Consider matrix <code>X</code> and <code>Y</code>. The Hadamard product corresponds to multiplying each of the elements in the same position, i.e. multiplying elements contained in the same color boxes together. The result is a new matrix that is the same size as matrix <code>Y</code> or <code>X</code>, as shown in the following figure.\n"
      ]
    },
    {
      "cell_type": "markdown",
      "metadata": {
        "id": "cKZx8QCjmufw"
      },
      "source": [
        "<img src=\"https://cf-courses-data.s3.us.cloud-object-storage.appdomain.cloud/IBMDeveloperSkillsNetwork-PY0101EN-SkillsNetwork/labs/Module%205/images/NumTwoMul.png\" width=\"500\" />\n"
      ]
    },
    {
      "cell_type": "markdown",
      "metadata": {
        "id": "4CRXSt7ymufw"
      },
      "source": [
        "We can perform element-wise product of the array <code>X</code> and <code>Y</code> as follows:\n"
      ]
    },
    {
      "cell_type": "code",
      "metadata": {
        "colab": {
          "base_uri": "https://localhost:8080/"
        },
        "id": "Hp_Yf0r_mufx",
        "outputId": "c1a73b26-a91c-4352-ec84-346e4e165d91"
      },
      "source": [
        "# Create a numpy array Y\n",
        "\n",
        "Y = np.array([[2, 1], [1, 2]]) \n",
        "Y"
      ],
      "execution_count": 17,
      "outputs": [
        {
          "output_type": "execute_result",
          "data": {
            "text/plain": [
              "array([[2, 1],\n",
              "       [1, 2]])"
            ]
          },
          "metadata": {
            "tags": []
          },
          "execution_count": 17
        }
      ]
    },
    {
      "cell_type": "code",
      "metadata": {
        "colab": {
          "base_uri": "https://localhost:8080/"
        },
        "id": "kmCzfQzAmufx",
        "outputId": "0ebafbbe-8128-42da-ea07-c4b98d955582"
      },
      "source": [
        "# Create a numpy array X\n",
        "\n",
        "X = np.array([[1, 0], [0, 1]]) \n",
        "X"
      ],
      "execution_count": 18,
      "outputs": [
        {
          "output_type": "execute_result",
          "data": {
            "text/plain": [
              "array([[1, 0],\n",
              "       [0, 1]])"
            ]
          },
          "metadata": {
            "tags": []
          },
          "execution_count": 18
        }
      ]
    },
    {
      "cell_type": "code",
      "metadata": {
        "colab": {
          "base_uri": "https://localhost:8080/"
        },
        "id": "pHDdjM5emufy",
        "outputId": "347545c3-5a07-4ec5-89a7-364048aed3bd"
      },
      "source": [
        "# Multiply X with Y\n",
        "\n",
        "Z = X * Y\n",
        "Z"
      ],
      "execution_count": 19,
      "outputs": [
        {
          "output_type": "execute_result",
          "data": {
            "text/plain": [
              "array([[2, 0],\n",
              "       [0, 2]])"
            ]
          },
          "metadata": {
            "tags": []
          },
          "execution_count": 19
        }
      ]
    },
    {
      "cell_type": "markdown",
      "metadata": {
        "id": "1UFsYavJmufz"
      },
      "source": [
        "We can also perform matrix multiplication with the numpy arrays <code>A</code> and <code>B</code> as follows:\n"
      ]
    },
    {
      "cell_type": "markdown",
      "metadata": {
        "id": "VrwGt45umuf0"
      },
      "source": [
        "First, we define matrix <code>A</code> and <code>B</code>:\n"
      ]
    },
    {
      "cell_type": "code",
      "metadata": {
        "id": "gpvkvERymuf1"
      },
      "source": [
        "# Create a matrix A\n",
        "\n",
        "A = np.array([[0, 1, 1], [1, 0, 1]])\n",
        "A"
      ],
      "execution_count": null,
      "outputs": []
    },
    {
      "cell_type": "code",
      "metadata": {
        "colab": {
          "base_uri": "https://localhost:8080/"
        },
        "id": "PZND_sAamuf1",
        "outputId": "e07ff929-c285-4bbb-eaf7-61e73d948dfd"
      },
      "source": [
        "# Create a matrix B\n",
        "\n",
        "B = np.array([[1, 1], [1, 1], [-1, 1]])\n",
        "B"
      ],
      "execution_count": 22,
      "outputs": [
        {
          "output_type": "execute_result",
          "data": {
            "text/plain": [
              "array([[ 1,  1],\n",
              "       [ 1,  1],\n",
              "       [-1,  1]])"
            ]
          },
          "metadata": {
            "tags": []
          },
          "execution_count": 22
        }
      ]
    },
    {
      "cell_type": "markdown",
      "metadata": {
        "id": "0M5iagh6muf2"
      },
      "source": [
        "We use the numpy function <code>dot</code> to multiply the arrays together.\n"
      ]
    },
    {
      "cell_type": "code",
      "metadata": {
        "colab": {
          "base_uri": "https://localhost:8080/"
        },
        "id": "T6gyppm4muf3",
        "outputId": "b79774d9-a901-4d89-ba9f-dfc74e166bc9"
      },
      "source": [
        "# Calculate the dot product\n",
        "\n",
        "Z = np.dot(A,B)\n",
        "Z"
      ],
      "execution_count": 23,
      "outputs": [
        {
          "output_type": "execute_result",
          "data": {
            "text/plain": [
              "array([[0, 2],\n",
              "       [0, 2]])"
            ]
          },
          "metadata": {
            "tags": []
          },
          "execution_count": 23
        }
      ]
    },
    {
      "cell_type": "code",
      "metadata": {
        "colab": {
          "base_uri": "https://localhost:8080/"
        },
        "id": "kjk0Fijqmuf4",
        "outputId": "6c6a539f-d94e-4556-9363-24bcc01e192c"
      },
      "source": [
        "# Calculate the sine of Z\n",
        "\n",
        "np.sin(Z)"
      ],
      "execution_count": 24,
      "outputs": [
        {
          "output_type": "execute_result",
          "data": {
            "text/plain": [
              "array([[0.        , 0.90929743],\n",
              "       [0.        , 0.90929743]])"
            ]
          },
          "metadata": {
            "tags": []
          },
          "execution_count": 24
        }
      ]
    },
    {
      "cell_type": "markdown",
      "metadata": {
        "id": "T73IktIZmuf4"
      },
      "source": [
        "We use the numpy attribute <code>T</code> to calculate the transposed matrix\n"
      ]
    },
    {
      "cell_type": "code",
      "metadata": {
        "colab": {
          "base_uri": "https://localhost:8080/"
        },
        "id": "Iu0QZazNmuf6",
        "outputId": "4d2886ed-bca8-43b5-cd1b-ef30b49c3029"
      },
      "source": [
        "# Create a matrix C\n",
        "\n",
        "C = np.array([[1,1],[2,2],[3,3]])\n",
        "C"
      ],
      "execution_count": 25,
      "outputs": [
        {
          "output_type": "execute_result",
          "data": {
            "text/plain": [
              "array([[1, 1],\n",
              "       [2, 2],\n",
              "       [3, 3]])"
            ]
          },
          "metadata": {
            "tags": []
          },
          "execution_count": 25
        }
      ]
    },
    {
      "cell_type": "code",
      "metadata": {
        "colab": {
          "base_uri": "https://localhost:8080/"
        },
        "id": "2aRRKM58muf7",
        "outputId": "e4e92390-d397-4de7-c8a5-64f116edb119"
      },
      "source": [
        "# Get the transposed of C\n",
        "\n",
        "C.T"
      ],
      "execution_count": 26,
      "outputs": [
        {
          "output_type": "execute_result",
          "data": {
            "text/plain": [
              "array([[1, 2, 3],\n",
              "       [1, 2, 3]])"
            ]
          },
          "metadata": {
            "tags": []
          },
          "execution_count": 26
        }
      ]
    },
    {
      "cell_type": "markdown",
      "metadata": {
        "id": "pxNcLmI7muf8"
      },
      "source": [
        "<h2>Quiz on 2D Numpy Array</h2>\n"
      ]
    },
    {
      "cell_type": "markdown",
      "metadata": {
        "id": "Qda1sMK8muf8"
      },
      "source": [
        "Consider the following list <code>a</code>, convert it to Numpy Array.\n"
      ]
    },
    {
      "cell_type": "code",
      "metadata": {
        "id": "LF3GCgoBmuf9"
      },
      "source": [
        "# Write your code below and press Shift+Enter to execute\n",
        "\n",
        "a = [[1, 2, 3, 4], [5, 6, 7, 8], [9, 10, 11, 12]]\n",
        "A = np.array(a)"
      ],
      "execution_count": 32,
      "outputs": []
    },
    {
      "cell_type": "markdown",
      "metadata": {
        "id": "G1eJiZ7pmuf-"
      },
      "source": [
        "<details><summary>Click here for the solution</summary>\n",
        "\n",
        "```python\n",
        "A = np.array(a)\n",
        "A\n",
        "```\n",
        "\n",
        "</details>\n"
      ]
    },
    {
      "cell_type": "markdown",
      "metadata": {
        "id": "dtoVFfUFmuf-"
      },
      "source": [
        "Calculate the numpy array size.\n"
      ]
    },
    {
      "cell_type": "code",
      "metadata": {
        "colab": {
          "base_uri": "https://localhost:8080/"
        },
        "id": "rcbaRVr4muf_",
        "outputId": "ddea0e65-3cd3-40d4-e294-9fb2ce6e728a"
      },
      "source": [
        "# Write your code below and press Shift+Enter to execute\n",
        "A.size"
      ],
      "execution_count": 33,
      "outputs": [
        {
          "output_type": "execute_result",
          "data": {
            "text/plain": [
              "12"
            ]
          },
          "metadata": {
            "tags": []
          },
          "execution_count": 33
        }
      ]
    },
    {
      "cell_type": "markdown",
      "metadata": {
        "id": "7OyDpD4BmugA"
      },
      "source": [
        "<details><summary>Click here for the solution</summary>\n",
        "\n",
        "```python\n",
        "A.size\n",
        "```\n",
        "\n",
        "</details>\n"
      ]
    },
    {
      "cell_type": "markdown",
      "metadata": {
        "id": "hb0BMHRvmugA"
      },
      "source": [
        "Access the element on the first row and first and second columns.\n"
      ]
    },
    {
      "cell_type": "code",
      "metadata": {
        "colab": {
          "base_uri": "https://localhost:8080/"
        },
        "id": "NT0ptRNKmugB",
        "outputId": "5cd2d132-c7d2-4fc9-aff3-8c9da598f974"
      },
      "source": [
        "# Write your code below and press Shift+Enter to execute\n",
        "A[0, 0:2]"
      ],
      "execution_count": 34,
      "outputs": [
        {
          "output_type": "execute_result",
          "data": {
            "text/plain": [
              "array([1, 2])"
            ]
          },
          "metadata": {
            "tags": []
          },
          "execution_count": 34
        }
      ]
    },
    {
      "cell_type": "markdown",
      "metadata": {
        "id": "z6HlQ8fwmugB"
      },
      "source": [
        "<details><summary>Click here for the solution</summary>\n",
        "\n",
        "```python\n",
        "A[0][0:2]\n",
        "```\n",
        "\n",
        "</details>\n"
      ]
    },
    {
      "cell_type": "markdown",
      "metadata": {
        "id": "6CfHbSrTmugC"
      },
      "source": [
        "Perform matrix multiplication with the numpy arrays <code>A</code> and <code>B</code>.\n"
      ]
    },
    {
      "cell_type": "code",
      "metadata": {
        "colab": {
          "base_uri": "https://localhost:8080/"
        },
        "id": "q9z3zM8DmugC",
        "outputId": "ae098d41-1b44-4048-8d72-7caa525e9ec1"
      },
      "source": [
        "# Write your code below and press Shift+Enter to execute\n",
        "\n",
        "B = np.array([[0, 1], [1, 0], [1, 1], [-1, 0]])\n",
        "np.dot(A,B)\n"
      ],
      "execution_count": 39,
      "outputs": [
        {
          "output_type": "execute_result",
          "data": {
            "text/plain": [
              "array([[ 0,  1],\n",
              "       [ 1,  0],\n",
              "       [ 1,  1],\n",
              "       [-1,  0]])"
            ]
          },
          "metadata": {
            "tags": []
          },
          "execution_count": 39
        }
      ]
    },
    {
      "cell_type": "markdown",
      "metadata": {
        "id": "nS7J3JUVmugD"
      },
      "source": [
        "<details><summary>Click here for the solution</summary>\n",
        "\n",
        "```python\n",
        "X = np.dot(A,B)\n",
        "X\n",
        "```\n",
        "\n",
        "</details>\n"
      ]
    },
    {
      "cell_type": "markdown",
      "metadata": {
        "id": "uKbDZ-DBmugE"
      },
      "source": [
        "<hr>\n",
        "<h2>The last exercise!</h2>\n",
        "<p>Congratulations, you have completed your first lesson and hands-on lab in Python. However, there is one more thing you need to do. The Data Science community encourages sharing work. The best way to share and showcase your work is to share it on GitHub. By sharing your notebook on GitHub you are not only building your reputation with fellow data scientists, but you can also show it off when applying for a job. Even though this was your first piece of work, it is never too early to start building good habits. So, please read and follow <a href=\"https://cognitiveclass.ai/blog/data-scientists-stand-out-by-sharing-your-notebooks/?utm_medium=Exinfluencer&utm_source=Exinfluencer&utm_content=000026UJ&utm_term=10006555&utm_id=NA-SkillsNetwork-Channel-SkillsNetworkCoursesIBMDeveloperSkillsNetworkPY0101ENSkillsNetwork19487395-2021-01-01\" target=\"_blank\">this article</a> to learn how to share your work.\n",
        "<hr>\n"
      ]
    },
    {
      "cell_type": "markdown",
      "metadata": {
        "id": "SQWZPqrvmugF"
      },
      "source": [
        "## Author\n",
        "\n",
        "<a href=\"https://www.linkedin.com/in/joseph-s-50398b136/?utm_medium=Exinfluencer&utm_source=Exinfluencer&utm_content=000026UJ&utm_term=10006555&utm_id=NA-SkillsNetwork-Channel-SkillsNetworkCoursesIBMDeveloperSkillsNetworkPY0101ENSkillsNetwork19487395-2021-01-01\" target=\"_blank\">Joseph Santarcangelo</a>\n",
        "\n",
        "## Other contributors\n",
        "\n",
        "<a href=\"www.linkedin.com/in/jiahui-mavis-zhou-a4537814a\">Mavis Zhou</a>\n",
        "\n",
        "## Change Log\n",
        "\n",
        "|  Date (YYYY-MM-DD) |  Version | Changed By  |  Change Description |\n",
        "|---|---|---|---|\n",
        "| 2021-01-05 | 2.2 | Malika | Updated the solution for dot multiplication |\n",
        "| 2020-09-09 | 2.1 | Malika | Updated the screenshot for first two rows of the 3rd column |\n",
        "| 2020-08-26  | 2.0  | Lavanya | Moved lab to course repo in GitLab |\n",
        "|  |   |   |   |\n",
        "|   |   |   |   |\n",
        "\n",
        "<hr/>\n",
        "\n",
        "## <h3 align=\"center\"> © IBM Corporation 2020. All rights reserved. <h3/>\n"
      ]
    }
  ]
}
