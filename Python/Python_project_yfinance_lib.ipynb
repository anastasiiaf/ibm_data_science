{
  "nbformat": 4,
  "nbformat_minor": 0,
  "metadata": {
    "kernelspec": {
      "display_name": "Python 3",
      "language": "python",
      "name": "python3"
    },
    "language_info": {
      "codemirror_mode": {
        "name": "ipython",
        "version": 3
      },
      "file_extension": ".py",
      "mimetype": "text/x-python",
      "name": "python",
      "nbconvert_exporter": "python",
      "pygments_lexer": "ipython3",
      "version": "3.8.0"
    },
    "colab": {
      "name": "Final_Assignment Library.ipynb",
      "provenance": [],
      "include_colab_link": true
    }
  },
  "cells": [
    {
      "cell_type": "markdown",
      "metadata": {
        "id": "view-in-github",
        "colab_type": "text"
      },
      "source": [
        "<a href=\"https://colab.research.google.com/github/anastasiiaf/ibm_data_science/blob/master/Python_project_yfinance_lib.ipynb\" target=\"_parent\"><img src=\"https://colab.research.google.com/assets/colab-badge.svg\" alt=\"Open In Colab\"/></a>"
      ]
    },
    {
      "cell_type": "markdown",
      "metadata": {
        "id": "1l2m1WczE6hm"
      },
      "source": [
        "<center>\n",
        "    <img src=\"https://s3-api.us-geo.objectstorage.softlayer.net/cf-courses-data/CognitiveClass/Logos/organization_logo/organization_logo.png\" width=\"300\" alt=\"cognitiveclass.ai logo\"  />\n",
        "</center>\n"
      ]
    },
    {
      "cell_type": "markdown",
      "metadata": {
        "id": "ynZ4MwmsE6hw"
      },
      "source": [
        "<h1>Extracting Stock Data Using a Python Library</h1>\n"
      ]
    },
    {
      "cell_type": "markdown",
      "metadata": {
        "id": "JfDNCjUjE6h0"
      },
      "source": [
        "A company's stock share is a piece of the company more precisely:\n",
        "\n",
        "<p><b>A stock (also known as equity) is a security that represents the ownership of a fraction of a corporation. This\n",
        "entitles the owner of the stock to a proportion of the corporation's assets and profits equal to how much stock they own. Units of stock are called \"shares.\" [1]</p></b>\n",
        "\n",
        "An investor can buy a stock and sell it later. If the stock price increases, the investor profits, If it decreases,the investor with incur a loss.  Determining the stock price is complex; it depends on the number of outstanding shares, the size of the company's future profits, and much more. People trade stocks throughout the day the stock ticker is a report of the price of a certain stock, updated continuously throughout the trading session by the various stock market exchanges.\n",
        "\n",
        "<p>You are a data scientist working for a hedge fund; it's your job to determine any suspicious stock activity. In this lab you will extract stock data using a Python library. We will use the <coode>yfinance</code> library, it allows us to extract data for stocks returning data in a pandas dataframe. You will use the lab to extract.</p>\n"
      ]
    },
    {
      "cell_type": "markdown",
      "metadata": {
        "id": "KMf8TUREE6h4"
      },
      "source": [
        "<h2>Table of Contents</h2>\n",
        "<div class=\"alert alert-block alert-info\" style=\"margin-top: 20px\">\n",
        "    <ul>\n",
        "        <li>Using yfinance to Extract Stock Info</li>\n",
        "        <li>Using yfinance to Extract Historical Share Price Data</li>\n",
        "        <li>Using yfinance to Extract Historical Dividends Data</li>\n",
        "        <li>Exercise</li>\n",
        "    </ul>\n",
        "<p>\n",
        "    Estimated Time Needed: <strong>30 min</strong></p>\n",
        "</div>\n",
        "\n",
        "<hr>\n"
      ]
    },
    {
      "cell_type": "code",
      "metadata": {
        "colab": {
          "base_uri": "https://localhost:8080/"
        },
        "id": "dj8Kg-lFE6h6",
        "outputId": "95d89656-cc79-478a-f22e-3a54b5fe629d"
      },
      "source": [
        "!pip install yfinance\n",
        "#!pip install pandas"
      ],
      "execution_count": 1,
      "outputs": [
        {
          "output_type": "stream",
          "text": [
            "Collecting yfinance\n",
            "  Downloading yfinance-0.1.63.tar.gz (26 kB)\n",
            "Requirement already satisfied: pandas>=0.24 in /usr/local/lib/python3.7/dist-packages (from yfinance) (1.1.5)\n",
            "Requirement already satisfied: numpy>=1.15 in /usr/local/lib/python3.7/dist-packages (from yfinance) (1.19.5)\n",
            "Requirement already satisfied: requests>=2.20 in /usr/local/lib/python3.7/dist-packages (from yfinance) (2.23.0)\n",
            "Requirement already satisfied: multitasking>=0.0.7 in /usr/local/lib/python3.7/dist-packages (from yfinance) (0.0.9)\n",
            "Collecting lxml>=4.5.1\n",
            "  Downloading lxml-4.6.3-cp37-cp37m-manylinux2014_x86_64.whl (6.3 MB)\n",
            "\u001b[K     |████████████████████████████████| 6.3 MB 7.3 MB/s \n",
            "\u001b[?25hRequirement already satisfied: python-dateutil>=2.7.3 in /usr/local/lib/python3.7/dist-packages (from pandas>=0.24->yfinance) (2.8.2)\n",
            "Requirement already satisfied: pytz>=2017.2 in /usr/local/lib/python3.7/dist-packages (from pandas>=0.24->yfinance) (2018.9)\n",
            "Requirement already satisfied: six>=1.5 in /usr/local/lib/python3.7/dist-packages (from python-dateutil>=2.7.3->pandas>=0.24->yfinance) (1.15.0)\n",
            "Requirement already satisfied: chardet<4,>=3.0.2 in /usr/local/lib/python3.7/dist-packages (from requests>=2.20->yfinance) (3.0.4)\n",
            "Requirement already satisfied: certifi>=2017.4.17 in /usr/local/lib/python3.7/dist-packages (from requests>=2.20->yfinance) (2021.5.30)\n",
            "Requirement already satisfied: idna<3,>=2.5 in /usr/local/lib/python3.7/dist-packages (from requests>=2.20->yfinance) (2.10)\n",
            "Requirement already satisfied: urllib3!=1.25.0,!=1.25.1,<1.26,>=1.21.1 in /usr/local/lib/python3.7/dist-packages (from requests>=2.20->yfinance) (1.24.3)\n",
            "Building wheels for collected packages: yfinance\n",
            "  Building wheel for yfinance (setup.py) ... \u001b[?25l\u001b[?25hdone\n",
            "  Created wheel for yfinance: filename=yfinance-0.1.63-py2.py3-none-any.whl size=23918 sha256=687fc98544e74428390b0fe0a3b33697504f44c023f46ae4206c615f65c4d7d5\n",
            "  Stored in directory: /root/.cache/pip/wheels/fe/87/8b/7ec24486e001d3926537f5f7801f57a74d181be25b11157983\n",
            "Successfully built yfinance\n",
            "Installing collected packages: lxml, yfinance\n",
            "  Attempting uninstall: lxml\n",
            "    Found existing installation: lxml 4.2.6\n",
            "    Uninstalling lxml-4.2.6:\n",
            "      Successfully uninstalled lxml-4.2.6\n",
            "Successfully installed lxml-4.6.3 yfinance-0.1.63\n"
          ],
          "name": "stdout"
        }
      ]
    },
    {
      "cell_type": "code",
      "metadata": {
        "id": "65pilQuOE6h8"
      },
      "source": [
        "import yfinance as yf\n",
        "import pandas as pd"
      ],
      "execution_count": 2,
      "outputs": []
    },
    {
      "cell_type": "markdown",
      "metadata": {
        "id": "EaAe-szDE6h_"
      },
      "source": [
        "## Using the yfinance Library to Extract Stock Data\n"
      ]
    },
    {
      "cell_type": "markdown",
      "metadata": {
        "id": "_fKssLzaE6iC"
      },
      "source": [
        "Using the `Ticker` module we can create an object that will allow us to access functions to extract data. To do this we need to provide the ticker symbol for the stock, here the company is Apple and the ticker symbol is `AAPL`.\n"
      ]
    },
    {
      "cell_type": "code",
      "metadata": {
        "id": "K8Ok0o7LE6iF"
      },
      "source": [
        "apple = yf.Ticker(\"AAPL\")"
      ],
      "execution_count": 3,
      "outputs": []
    },
    {
      "cell_type": "markdown",
      "metadata": {
        "id": "PsLvh_mzE6iI"
      },
      "source": [
        "Now we can access functions and variables to extract the type of data we need. You can view them and what they represent here [https://aroussi.com/post/python-yahoo-finance](https://aroussi.com/post/python-yahoo-finance?utm_medium=Exinfluencer&utm_source=Exinfluencer&utm_content=000026UJ&utm_term=10006555&utm_id=NA-SkillsNetwork-Channel-SkillsNetworkCoursesIBMDeveloperSkillsNetworkPY0220ENSkillsNetwork23455606-2021-01-01).\n"
      ]
    },
    {
      "cell_type": "markdown",
      "metadata": {
        "id": "rm4I-3e4E6iK"
      },
      "source": [
        "### Stock Info\n"
      ]
    },
    {
      "cell_type": "markdown",
      "metadata": {
        "id": "1LTPMZxiE6iL"
      },
      "source": [
        "Using the attribute  <code>info</code> we can extract information about the stock as a Python dictionary.\n"
      ]
    },
    {
      "cell_type": "code",
      "metadata": {
        "colab": {
          "base_uri": "https://localhost:8080/"
        },
        "id": "zzP8VC_ME6iM",
        "outputId": "55ef879c-5da1-4815-bb42-169f06bf0b4b"
      },
      "source": [
        "apple_info=apple.info\n",
        "apple_info"
      ],
      "execution_count": 4,
      "outputs": [
        {
          "output_type": "execute_result",
          "data": {
            "text/plain": [
              "{'52WeekChange': 0.30096197,\n",
              " 'SandP52WeekChange': 0.32111573,\n",
              " 'address1': 'One Apple Park Way',\n",
              " 'algorithm': None,\n",
              " 'annualHoldingsTurnover': None,\n",
              " 'annualReportExpenseRatio': None,\n",
              " 'ask': 0,\n",
              " 'askSize': 1100,\n",
              " 'averageDailyVolume10Day': 58682350,\n",
              " 'averageVolume': 77016828,\n",
              " 'averageVolume10days': 58682350,\n",
              " 'beta': 1.202797,\n",
              " 'beta3Year': None,\n",
              " 'bid': 0,\n",
              " 'bidSize': 1200,\n",
              " 'bookValue': 3.882,\n",
              " 'category': None,\n",
              " 'circulatingSupply': None,\n",
              " 'city': 'Cupertino',\n",
              " 'companyOfficers': [],\n",
              " 'country': 'United States',\n",
              " 'currency': 'USD',\n",
              " 'currentPrice': 149.1,\n",
              " 'currentRatio': 1.062,\n",
              " 'dateShortInterest': 1627603200,\n",
              " 'dayHigh': 149.4444,\n",
              " 'dayLow': 148.27,\n",
              " 'debtToEquity': 210.782,\n",
              " 'dividendRate': 0.88,\n",
              " 'dividendYield': 0.0058999998,\n",
              " 'earningsGrowth': 1,\n",
              " 'earningsQuarterlyGrowth': 0.932,\n",
              " 'ebitda': 110934999040,\n",
              " 'ebitdaMargins': 0.31955,\n",
              " 'enterpriseToEbitda': 22.882,\n",
              " 'enterpriseToRevenue': 7.312,\n",
              " 'enterpriseValue': 2538442850304,\n",
              " 'exDividendDate': 1628208000,\n",
              " 'exchange': 'NMS',\n",
              " 'exchangeTimezoneName': 'America/New_York',\n",
              " 'exchangeTimezoneShortName': 'EDT',\n",
              " 'expireDate': None,\n",
              " 'fiftyDayAverage': 144.8403,\n",
              " 'fiftyTwoWeekHigh': 150,\n",
              " 'fiftyTwoWeekLow': 103.1,\n",
              " 'financialCurrency': 'USD',\n",
              " 'fiveYearAverageReturn': None,\n",
              " 'fiveYearAvgDividendYield': 1.29,\n",
              " 'floatShares': 16508015578,\n",
              " 'forwardEps': 5.67,\n",
              " 'forwardPE': 26.296297,\n",
              " 'freeCashflow': 80625876992,\n",
              " 'fromCurrency': None,\n",
              " 'fullTimeEmployees': 147000,\n",
              " 'fundFamily': None,\n",
              " 'fundInceptionDate': None,\n",
              " 'gmtOffSetMilliseconds': '-14400000',\n",
              " 'grossMargins': 0.41005,\n",
              " 'grossProfits': 104956000000,\n",
              " 'heldPercentInsiders': 0.00071000005,\n",
              " 'heldPercentInstitutions': 0.59114,\n",
              " 'impliedSharesOutstanding': None,\n",
              " 'industry': 'Consumer Electronics',\n",
              " 'isEsgPopulated': False,\n",
              " 'lastCapGain': None,\n",
              " 'lastDividendDate': None,\n",
              " 'lastDividendValue': None,\n",
              " 'lastFiscalYearEnd': 1601078400,\n",
              " 'lastMarket': None,\n",
              " 'lastSplitDate': None,\n",
              " 'lastSplitFactor': None,\n",
              " 'legalType': None,\n",
              " 'logo_url': 'https://logo.clearbit.com/apple.com',\n",
              " 'longBusinessSummary': 'Apple Inc. designs, manufactures, and markets smartphones, personal computers, tablets, wearables, and accessories worldwide. It also sells various related services. The company offers iPhone, a line of smartphones; Mac, a line of personal computers; iPad, a line of multi-purpose tablets; and wearables, home, and accessories comprising AirPods, Apple TV, Apple Watch, Beats products, HomePod, iPod touch, and other Apple-branded and third-party accessories. It also provides AppleCare support services; cloud services store services; and operates various platforms, including the App Store, that allow customers to discover and download applications and digital content, such as books, music, video, games, and podcasts. In addition, the company offers various services, such as Apple Arcade, a game subscription service; Apple Music, which offers users a curated listening experience with on-demand radio stations; Apple News+, a subscription news and magazine service; Apple TV+, which offers exclusive original content; Apple Card, a co-branded credit card; and Apple Pay, a cashless payment service, as well as licenses its intellectual property. The company serves consumers, and small and mid-sized businesses; and the education, enterprise, and government markets. It sells and delivers third-party applications for its products through the App Store. The company also sells its products through its retail and online stores, and direct sales force; and third-party cellular network carriers, wholesalers, retailers, and resellers. Apple Inc. was founded in 1977 and is headquartered in Cupertino, California.',\n",
              " 'longName': 'Apple Inc.',\n",
              " 'market': 'us_market',\n",
              " 'marketCap': 2464652984320,\n",
              " 'maxAge': 1,\n",
              " 'maxSupply': None,\n",
              " 'messageBoardId': 'finmb_24937',\n",
              " 'morningStarOverallRating': None,\n",
              " 'morningStarRiskRating': None,\n",
              " 'mostRecentQuarter': 1624665600,\n",
              " 'navPrice': None,\n",
              " 'netIncomeToCommon': 86801997824,\n",
              " 'nextFiscalYearEnd': 1664150400,\n",
              " 'numberOfAnalystOpinions': 41,\n",
              " 'open': 148.97,\n",
              " 'openInterest': None,\n",
              " 'operatingCashflow': 104414003200,\n",
              " 'operatingMargins': 0.28788,\n",
              " 'payoutRatio': 0.16309999,\n",
              " 'pegRatio': 1.34,\n",
              " 'phone': '408-996-1010',\n",
              " 'previousClose': 148.89,\n",
              " 'priceHint': 2,\n",
              " 'priceToBook': 38.40804,\n",
              " 'priceToSalesTrailing12Months': 7.099575,\n",
              " 'profitMargins': 0.25004,\n",
              " 'quickRatio': 0.887,\n",
              " 'quoteType': 'EQUITY',\n",
              " 'recommendationKey': 'buy',\n",
              " 'recommendationMean': 2,\n",
              " 'regularMarketDayHigh': 149.4444,\n",
              " 'regularMarketDayLow': 148.27,\n",
              " 'regularMarketOpen': 148.97,\n",
              " 'regularMarketPreviousClose': 148.89,\n",
              " 'regularMarketPrice': 149.1,\n",
              " 'regularMarketVolume': 59375009,\n",
              " 'returnOnAssets': 0.19302,\n",
              " 'returnOnEquity': 1.27125,\n",
              " 'revenueGrowth': 0.364,\n",
              " 'revenuePerShare': 20.61,\n",
              " 'revenueQuarterlyGrowth': None,\n",
              " 'sector': 'Technology',\n",
              " 'sharesOutstanding': 16530199552,\n",
              " 'sharesPercentSharesOut': 0.0056,\n",
              " 'sharesShort': 93114834,\n",
              " 'sharesShortPreviousMonthDate': 1625011200,\n",
              " 'sharesShortPriorMonth': 90213531,\n",
              " 'shortName': 'Apple Inc.',\n",
              " 'shortPercentOfFloat': 0.0056,\n",
              " 'shortRatio': 1.03,\n",
              " 'startDate': None,\n",
              " 'state': 'CA',\n",
              " 'strikePrice': None,\n",
              " 'symbol': 'AAPL',\n",
              " 'targetHighPrice': 190,\n",
              " 'targetLowPrice': 132,\n",
              " 'targetMeanPrice': 165.87,\n",
              " 'targetMedianPrice': 168,\n",
              " 'threeYearAverageReturn': None,\n",
              " 'toCurrency': None,\n",
              " 'totalAssets': None,\n",
              " 'totalCash': 61696000000,\n",
              " 'totalCashPerShare': 3.732,\n",
              " 'totalDebt': 135491002368,\n",
              " 'totalRevenue': 347155005440,\n",
              " 'tradeable': False,\n",
              " 'trailingAnnualDividendRate': 0.835,\n",
              " 'trailingAnnualDividendYield': 0.005608167,\n",
              " 'trailingEps': 5.108,\n",
              " 'trailingPE': 29.189508,\n",
              " 'twoHundredDayAverage': 132.25021,\n",
              " 'volume': 59375009,\n",
              " 'volume24Hr': None,\n",
              " 'volumeAllCurrencies': None,\n",
              " 'website': 'http://www.apple.com',\n",
              " 'yield': None,\n",
              " 'ytdReturn': None,\n",
              " 'zip': '95014'}"
            ]
          },
          "metadata": {
            "tags": []
          },
          "execution_count": 4
        }
      ]
    },
    {
      "cell_type": "markdown",
      "metadata": {
        "id": "IlSMSh8oE6iN"
      },
      "source": [
        "We can get the <code>'country'</code> using the key country\n"
      ]
    },
    {
      "cell_type": "code",
      "metadata": {
        "colab": {
          "base_uri": "https://localhost:8080/",
          "height": 35
        },
        "id": "ax4jI4RyE6iP",
        "outputId": "1bb02b03-b984-4894-fa8b-b35a7e2dd81d"
      },
      "source": [
        "apple_info['country']"
      ],
      "execution_count": 5,
      "outputs": [
        {
          "output_type": "execute_result",
          "data": {
            "application/vnd.google.colaboratory.intrinsic+json": {
              "type": "string"
            },
            "text/plain": [
              "'United States'"
            ]
          },
          "metadata": {
            "tags": []
          },
          "execution_count": 5
        }
      ]
    },
    {
      "cell_type": "markdown",
      "metadata": {
        "id": "kq8xO_0kE6iQ"
      },
      "source": [
        "### Extracting Share Price\n"
      ]
    },
    {
      "cell_type": "markdown",
      "metadata": {
        "id": "xrgVRDnpE6iQ"
      },
      "source": [
        "A share is the single smallest part of a company's stock  that you can buy, the prices of these shares fluctuate over time. Using the <code>history()</code> method we can get the share price of the stock over a certain period of time. Using the `period` parameter we can set how far back from the present to get data. The options for `period` are 1 day (1d), 5d, 1 month (1mo) , 3mo, 6mo, 1 year (1y), 2y, 5y, 10y, ytd, and max.\n"
      ]
    },
    {
      "cell_type": "code",
      "metadata": {
        "id": "OmcQ2wzVE6iR"
      },
      "source": [
        "apple_share_price_data = apple.history(period=\"max\")"
      ],
      "execution_count": 6,
      "outputs": []
    },
    {
      "cell_type": "markdown",
      "metadata": {
        "id": "4v--RuyAE6iS"
      },
      "source": [
        "The format that the data is returned in is a Pandas DataFrame. With the `Date` as the index the share `Open`, `High`, `Low`, `Close`, `Volume`, and `Stock Splits` are given for each day.\n"
      ]
    },
    {
      "cell_type": "code",
      "metadata": {
        "colab": {
          "base_uri": "https://localhost:8080/",
          "height": 234
        },
        "id": "UVTX02TkE6iT",
        "outputId": "5347aa7b-a619-4e09-fa7d-625a012ecec6"
      },
      "source": [
        "apple_share_price_data.head()"
      ],
      "execution_count": 7,
      "outputs": [
        {
          "output_type": "execute_result",
          "data": {
            "text/html": [
              "<div>\n",
              "<style scoped>\n",
              "    .dataframe tbody tr th:only-of-type {\n",
              "        vertical-align: middle;\n",
              "    }\n",
              "\n",
              "    .dataframe tbody tr th {\n",
              "        vertical-align: top;\n",
              "    }\n",
              "\n",
              "    .dataframe thead th {\n",
              "        text-align: right;\n",
              "    }\n",
              "</style>\n",
              "<table border=\"1\" class=\"dataframe\">\n",
              "  <thead>\n",
              "    <tr style=\"text-align: right;\">\n",
              "      <th></th>\n",
              "      <th>Open</th>\n",
              "      <th>High</th>\n",
              "      <th>Low</th>\n",
              "      <th>Close</th>\n",
              "      <th>Volume</th>\n",
              "      <th>Dividends</th>\n",
              "      <th>Stock Splits</th>\n",
              "    </tr>\n",
              "    <tr>\n",
              "      <th>Date</th>\n",
              "      <th></th>\n",
              "      <th></th>\n",
              "      <th></th>\n",
              "      <th></th>\n",
              "      <th></th>\n",
              "      <th></th>\n",
              "      <th></th>\n",
              "    </tr>\n",
              "  </thead>\n",
              "  <tbody>\n",
              "    <tr>\n",
              "      <th>1980-12-12</th>\n",
              "      <td>0.100600</td>\n",
              "      <td>0.101037</td>\n",
              "      <td>0.100600</td>\n",
              "      <td>0.100600</td>\n",
              "      <td>469033600</td>\n",
              "      <td>0.0</td>\n",
              "      <td>0.0</td>\n",
              "    </tr>\n",
              "    <tr>\n",
              "      <th>1980-12-15</th>\n",
              "      <td>0.095789</td>\n",
              "      <td>0.095789</td>\n",
              "      <td>0.095352</td>\n",
              "      <td>0.095352</td>\n",
              "      <td>175884800</td>\n",
              "      <td>0.0</td>\n",
              "      <td>0.0</td>\n",
              "    </tr>\n",
              "    <tr>\n",
              "      <th>1980-12-16</th>\n",
              "      <td>0.088790</td>\n",
              "      <td>0.088790</td>\n",
              "      <td>0.088353</td>\n",
              "      <td>0.088353</td>\n",
              "      <td>105728000</td>\n",
              "      <td>0.0</td>\n",
              "      <td>0.0</td>\n",
              "    </tr>\n",
              "    <tr>\n",
              "      <th>1980-12-17</th>\n",
              "      <td>0.090540</td>\n",
              "      <td>0.090977</td>\n",
              "      <td>0.090540</td>\n",
              "      <td>0.090540</td>\n",
              "      <td>86441600</td>\n",
              "      <td>0.0</td>\n",
              "      <td>0.0</td>\n",
              "    </tr>\n",
              "    <tr>\n",
              "      <th>1980-12-18</th>\n",
              "      <td>0.093165</td>\n",
              "      <td>0.093602</td>\n",
              "      <td>0.093165</td>\n",
              "      <td>0.093165</td>\n",
              "      <td>73449600</td>\n",
              "      <td>0.0</td>\n",
              "      <td>0.0</td>\n",
              "    </tr>\n",
              "  </tbody>\n",
              "</table>\n",
              "</div>"
            ],
            "text/plain": [
              "                Open      High       Low  ...     Volume  Dividends  Stock Splits\n",
              "Date                                      ...                                    \n",
              "1980-12-12  0.100600  0.101037  0.100600  ...  469033600        0.0           0.0\n",
              "1980-12-15  0.095789  0.095789  0.095352  ...  175884800        0.0           0.0\n",
              "1980-12-16  0.088790  0.088790  0.088353  ...  105728000        0.0           0.0\n",
              "1980-12-17  0.090540  0.090977  0.090540  ...   86441600        0.0           0.0\n",
              "1980-12-18  0.093165  0.093602  0.093165  ...   73449600        0.0           0.0\n",
              "\n",
              "[5 rows x 7 columns]"
            ]
          },
          "metadata": {
            "tags": []
          },
          "execution_count": 7
        }
      ]
    },
    {
      "cell_type": "markdown",
      "metadata": {
        "id": "m36htCVSE6iU"
      },
      "source": [
        "We can reset the index of the DataFrame with the `reset_index` function. We also set the `inplace` paramter to `True` so the change takes place to the DataFrame itself.\n"
      ]
    },
    {
      "cell_type": "code",
      "metadata": {
        "id": "HI-VgY3lE6iV"
      },
      "source": [
        "apple_share_price_data.reset_index(inplace=True)"
      ],
      "execution_count": 8,
      "outputs": []
    },
    {
      "cell_type": "markdown",
      "metadata": {
        "id": "PtBsrfXbE6iW"
      },
      "source": [
        "We can plot the `Open` price against the `Date`:\n"
      ]
    },
    {
      "cell_type": "code",
      "metadata": {
        "colab": {
          "base_uri": "https://localhost:8080/",
          "height": 286
        },
        "id": "f6_PvIu1E6iW",
        "outputId": "d6f2ced3-6748-442a-a9e8-85890ac4ad11"
      },
      "source": [
        "apple_share_price_data.plot(x=\"Date\", y=\"Open\")"
      ],
      "execution_count": 9,
      "outputs": [
        {
          "output_type": "execute_result",
          "data": {
            "text/plain": [
              "<matplotlib.axes._subplots.AxesSubplot at 0x7fdecb66b210>"
            ]
          },
          "metadata": {
            "tags": []
          },
          "execution_count": 9
        },
        {
          "output_type": "display_data",
          "data": {
            "image/png": "[encoded data removed]",
            "text/plain": [
              "<Figure size 432x288 with 1 Axes>"
            ]
          },
          "metadata": {
            "tags": [],
            "needs_background": "light"
          }
        }
      ]
    },
    {
      "cell_type": "markdown",
      "metadata": {
        "id": "WNP8X2kiE6iX"
      },
      "source": [
        "### Extracting Dividends\n"
      ]
    },
    {
      "cell_type": "markdown",
      "metadata": {
        "id": "JBSypyaSE6iX"
      },
      "source": [
        "Dividends are the distribution of a companys profits to shareholders. In this case they are defined as an amount of money returned per share an investor owns. Using the variable `dividends` we can get a dataframe of the data. The period of the data is given by the period defined in the 'history\\` function.\n"
      ]
    },
    {
      "cell_type": "code",
      "metadata": {
        "colab": {
          "base_uri": "https://localhost:8080/"
        },
        "id": "d9brpS0KE6iY",
        "outputId": "83e52512-ba5e-41e9-9252-a44bf2001f2e"
      },
      "source": [
        "apple.dividends"
      ],
      "execution_count": 10,
      "outputs": [
        {
          "output_type": "execute_result",
          "data": {
            "text/plain": [
              "Date\n",
              "1987-05-11    0.000536\n",
              "1987-08-10    0.000536\n",
              "1987-11-17    0.000714\n",
              "1988-02-12    0.000714\n",
              "1988-05-16    0.000714\n",
              "                ...   \n",
              "2020-08-07    0.205000\n",
              "2020-11-06    0.205000\n",
              "2021-02-05    0.205000\n",
              "2021-05-07    0.220000\n",
              "2021-08-06    0.220000\n",
              "Name: Dividends, Length: 72, dtype: float64"
            ]
          },
          "metadata": {
            "tags": []
          },
          "execution_count": 10
        }
      ]
    },
    {
      "cell_type": "markdown",
      "metadata": {
        "id": "HbNg9P-fE6iY"
      },
      "source": [
        "We can plot the dividends overtime:\n"
      ]
    },
    {
      "cell_type": "code",
      "metadata": {
        "colab": {
          "base_uri": "https://localhost:8080/",
          "height": 286
        },
        "id": "6RFvF_zUE6iZ",
        "outputId": "9cf1ae5b-01e6-4ba8-eacb-827d33c92f45"
      },
      "source": [
        "apple.dividends.plot()"
      ],
      "execution_count": 11,
      "outputs": [
        {
          "output_type": "execute_result",
          "data": {
            "text/plain": [
              "<matplotlib.axes._subplots.AxesSubplot at 0x7fdecb861f90>"
            ]
          },
          "metadata": {
            "tags": []
          },
          "execution_count": 11
        },
        {
          "output_type": "display_data",
          "data": {
            "image/png": "[encoded data removed]",
            "text/plain": [
              "<Figure size 432x288 with 1 Axes>"
            ]
          },
          "metadata": {
            "tags": [],
            "needs_background": "light"
          }
        }
      ]
    },
    {
      "cell_type": "markdown",
      "metadata": {
        "id": "nSEtM1RyE6ia"
      },
      "source": [
        "## Exercise\n"
      ]
    },
    {
      "cell_type": "markdown",
      "metadata": {
        "id": "072yDpZzE6ia"
      },
      "source": [
        "Now using the `Ticker` module create an object for AMD (Advanced Micro Devices) with the ticker symbol is `AMD` called; name the object <code>amd</code>.\n"
      ]
    },
    {
      "cell_type": "code",
      "metadata": {
        "id": "xxnGsFV5E6ib"
      },
      "source": [
        "amd = yf.Ticker(\"AMD\")"
      ],
      "execution_count": 12,
      "outputs": []
    },
    {
      "cell_type": "markdown",
      "metadata": {
        "id": "KQnBYF8dE6ib"
      },
      "source": [
        "<b>Question 1</b> Use the key  <code>'country'</code> to find the country the stock belongs to, remember it as it will be a quiz question.\n"
      ]
    },
    {
      "cell_type": "code",
      "metadata": {
        "colab": {
          "base_uri": "https://localhost:8080/",
          "height": 35
        },
        "id": "Q8cSXJV_E6ic",
        "outputId": "2b9bf0df-b92d-4178-c3c0-3e028c4257d1"
      },
      "source": [
        "amd_info = amd.info\n",
        "amd_info[\"country\"]"
      ],
      "execution_count": 13,
      "outputs": [
        {
          "output_type": "execute_result",
          "data": {
            "application/vnd.google.colaboratory.intrinsic+json": {
              "type": "string"
            },
            "text/plain": [
              "'United States'"
            ]
          },
          "metadata": {
            "tags": []
          },
          "execution_count": 13
        }
      ]
    },
    {
      "cell_type": "markdown",
      "metadata": {
        "id": "M-hlyuGyE6ic"
      },
      "source": [
        "<b>Question 2</b> Use the key  <code>'sector'</code> to find the sector the stock belongs to, remember it as it will be a quiz question.\n"
      ]
    },
    {
      "cell_type": "code",
      "metadata": {
        "colab": {
          "base_uri": "https://localhost:8080/",
          "height": 35
        },
        "id": "JxlrCwKPE6id",
        "outputId": "6f578888-d3e4-401c-b8c5-e16a08f102bd"
      },
      "source": [
        "amd_info[\"sector\"]"
      ],
      "execution_count": 14,
      "outputs": [
        {
          "output_type": "execute_result",
          "data": {
            "application/vnd.google.colaboratory.intrinsic+json": {
              "type": "string"
            },
            "text/plain": [
              "'Technology'"
            ]
          },
          "metadata": {
            "tags": []
          },
          "execution_count": 14
        }
      ]
    },
    {
      "cell_type": "markdown",
      "metadata": {
        "id": "xpM_B3rrE6id"
      },
      "source": [
        "<b>Question 3</b> Obtain stock data for AMD using the `history` function, set the `period` to max. Find the `Volume` traded on the first day (first row).\n"
      ]
    },
    {
      "cell_type": "code",
      "metadata": {
        "colab": {
          "base_uri": "https://localhost:8080/"
        },
        "id": "6GXARs0DE6ie",
        "outputId": "cc565da9-debb-4be9-d3d1-62dbd23629b8"
      },
      "source": [
        "amd_history = amd.history(period=\"max\")\n",
        "amd_history[\"Volume\"][0]\n",
        "#amd_history.head()"
      ],
      "execution_count": 24,
      "outputs": [
        {
          "output_type": "execute_result",
          "data": {
            "text/plain": [
              "219600"
            ]
          },
          "metadata": {
            "tags": []
          },
          "execution_count": 24
        }
      ]
    },
    {
      "cell_type": "markdown",
      "metadata": {
        "id": "j2ignntME6ie"
      },
      "source": [
        "<h2>About the Authors:</h2> \n",
        "\n",
        "<a href=\"https://www.linkedin.com/in/joseph-s-50398b136/?utm_medium=Exinfluencer&utm_source=Exinfluencer&utm_content=000026UJ&utm_term=10006555&utm_id=NA-SkillsNetwork-Channel-SkillsNetworkCoursesIBMDeveloperSkillsNetworkPY0220ENSkillsNetwork23455606-2021-01-01\">Joseph Santarcangelo</a> has a PhD in Electrical Engineering, his research focused on using machine learning, signal processing, and computer vision to determine how videos impact human cognition. Joseph has been working for IBM since he completed his PhD.\n",
        "\n",
        "Azim Hirjani\n"
      ]
    },
    {
      "cell_type": "markdown",
      "metadata": {
        "id": "FhttJix9E6if"
      },
      "source": [
        "## Change Log\n",
        "\n",
        "| Date (YYYY-MM-DD) | Version | Changed By    | Change Description        |\n",
        "| ----------------- | ------- | ------------- | ------------------------- |\n",
        "| 2020-11-10        | 1.1     | Malika Singla | Deleted the Optional part |\n",
        "| 2020-08-27        | 1.0     | Malika Singla | Added lab to GitLab       |\n",
        "\n",
        "<hr>\n",
        "\n",
        "## <h3 align=\"center\"> © IBM Corporation 2020. All rights reserved. <h3/>\n",
        "\n",
        "<p>\n"
      ]
    }
  ]
}
