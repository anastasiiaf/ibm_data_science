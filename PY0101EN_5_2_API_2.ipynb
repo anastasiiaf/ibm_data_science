{
  "nbformat": 4,
  "nbformat_minor": 0,
  "metadata": {
    "kernelspec": {
      "display_name": "Python 3",
      "language": "python",
      "name": "python3"
    },
    "language_info": {
      "codemirror_mode": {
        "name": "ipython",
        "version": 3
      },
      "file_extension": ".py",
      "mimetype": "text/x-python",
      "name": "python",
      "nbconvert_exporter": "python",
      "pygments_lexer": "ipython3",
      "version": "3.7.6"
    },
    "colab": {
      "name": "PY0101EN-5.2_API_2.ipynb",
      "provenance": [],
      "include_colab_link": true
    }
  },
  "cells": [
    {
      "cell_type": "markdown",
      "metadata": {
        "id": "view-in-github",
        "colab_type": "text"
      },
      "source": [
        "<a href=\"https://colab.research.google.com/github/anastasiiaf/ibm_data_science/blob/master/PY0101EN_5_2_API_2.ipynb\" target=\"_parent\"><img src=\"https://colab.research.google.com/assets/colab-badge.svg\" alt=\"Open In Colab\"/></a>"
      ]
    },
    {
      "cell_type": "markdown",
      "metadata": {
        "id": "cOkMPeYOsMnj"
      },
      "source": [
        "<center>\n",
        "    <img src=\"https://cf-courses-data.s3.us.cloud-object-storage.appdomain.cloud/IBMDeveloperSkillsNetwork-PY0101EN-SkillsNetwork/IDSNlogo.png\" width=\"300\" alt=\"cognitiveclass.ai logo\"  />\n",
        "</center>\n",
        "\n",
        "# Watson Speech to Text Translator\n",
        "\n",
        "Estimated time needed: **25** minutes\n",
        "\n",
        "## Objectives\n",
        "\n",
        "After completing this lab you will be able to:\n",
        "\n",
        "*   Operate a Speech to Text Translator through an API\n"
      ]
    },
    {
      "cell_type": "markdown",
      "metadata": {
        "id": "NvHeExD-sMnr"
      },
      "source": [
        "### Introduction\n",
        "\n",
        "<p>In this notebook, you will learn to convert an audio file of an English speaker to text using a Speech to Text API. Then, you will translate the English version to a Spanish version using a Language Translator API. <b>Note:</b> You must obtain the API keys and endpoints to complete the lab.</p>\n"
      ]
    },
    {
      "cell_type": "markdown",
      "metadata": {
        "id": "O0nvj2IxsMns"
      },
      "source": [
        "<div class=\"alert alert-block alert-info\" style=\"margin-top: 20px\">\n",
        "<h2>Table of Contents</h2>\n",
        "<ul>\n",
        "    <li><a href=\"#ref0\">Speech To Text</a></li>\n",
        "    <li><a href=\"#ref1\">Language Translator</a></li>\n",
        "    <li><a href=\"#ref2\">Exercise</a></li>\n",
        "</ul>\n",
        "</div>\n"
      ]
    },
    {
      "cell_type": "code",
      "metadata": {
        "jupyter": {
          "outputs_hidden": false
        },
        "colab": {
          "base_uri": "https://localhost:8080/"
        },
        "id": "sE6zenSTsMnu",
        "outputId": "c41d8b83-118d-482b-d2e7-2068a3ef330f"
      },
      "source": [
        "#you will need the following library \n",
        "!pip install ibm_watson wget"
      ],
      "execution_count": 1,
      "outputs": [
        {
          "output_type": "stream",
          "text": [
            "Collecting ibm_watson\n",
            "  Downloading ibm-watson-5.2.2.tar.gz (407 kB)\n",
            "\u001b[K     |████████████████████████████████| 407 kB 5.1 MB/s \n",
            "\u001b[?25h  Installing build dependencies ... \u001b[?25l\u001b[?25hdone\n",
            "  Getting requirements to build wheel ... \u001b[?25l\u001b[?25hdone\n",
            "    Preparing wheel metadata ... \u001b[?25l\u001b[?25hdone\n",
            "Collecting wget\n",
            "  Downloading wget-3.2.zip (10 kB)\n",
            "Collecting ibm-cloud-sdk-core==3.*,>=3.3.6\n",
            "  Downloading ibm-cloud-sdk-core-3.11.0.tar.gz (44 kB)\n",
            "\u001b[K     |████████████████████████████████| 44 kB 2.6 MB/s \n",
            "\u001b[?25hRequirement already satisfied: python-dateutil>=2.5.3 in /usr/local/lib/python3.7/dist-packages (from ibm_watson) (2.8.2)\n",
            "Requirement already satisfied: requests<3.0,>=2.0 in /usr/local/lib/python3.7/dist-packages (from ibm_watson) (2.23.0)\n",
            "Collecting websocket-client==1.1.0\n",
            "  Downloading websocket_client-1.1.0-py2.py3-none-any.whl (68 kB)\n",
            "\u001b[K     |████████████████████████████████| 68 kB 1.6 MB/s \n",
            "\u001b[?25hCollecting PyJWT<3.0.0,>=2.0.1\n",
            "  Downloading PyJWT-2.1.0-py3-none-any.whl (16 kB)\n",
            "Requirement already satisfied: six>=1.5 in /usr/local/lib/python3.7/dist-packages (from python-dateutil>=2.5.3->ibm_watson) (1.15.0)\n",
            "Requirement already satisfied: idna<3,>=2.5 in /usr/local/lib/python3.7/dist-packages (from requests<3.0,>=2.0->ibm_watson) (2.10)\n",
            "Requirement already satisfied: certifi>=2017.4.17 in /usr/local/lib/python3.7/dist-packages (from requests<3.0,>=2.0->ibm_watson) (2021.5.30)\n",
            "Requirement already satisfied: urllib3!=1.25.0,!=1.25.1,<1.26,>=1.21.1 in /usr/local/lib/python3.7/dist-packages (from requests<3.0,>=2.0->ibm_watson) (1.24.3)\n",
            "Requirement already satisfied: chardet<4,>=3.0.2 in /usr/local/lib/python3.7/dist-packages (from requests<3.0,>=2.0->ibm_watson) (3.0.4)\n",
            "Building wheels for collected packages: ibm-watson, ibm-cloud-sdk-core, wget\n",
            "  Building wheel for ibm-watson (PEP 517) ... \u001b[?25l\u001b[?25hdone\n",
            "  Created wheel for ibm-watson: filename=ibm_watson-5.2.2-py3-none-any.whl size=403388 sha256=b95d0e412a90af99ebcdb324d31de363672fd37d0f65ee17f24ef79a408eb1d8\n",
            "  Stored in directory: /root/.cache/pip/wheels/64/af/0b/1f0f7f72a47e98ebbd1119568cca47e480969ef9dd688c70d6\n",
            "  Building wheel for ibm-cloud-sdk-core (setup.py) ... \u001b[?25l\u001b[?25hdone\n",
            "  Created wheel for ibm-cloud-sdk-core: filename=ibm_cloud_sdk_core-3.11.0-py3-none-any.whl size=74249 sha256=b7d00a87d9bfe643b19c58fbd2178319b4052019fc4f4628d614f672788fbfbc\n",
            "  Stored in directory: /root/.cache/pip/wheels/95/f6/73/2a2699d782e1ec9644d21db665c7c66b6d2ab415e82ba4ff62\n",
            "  Building wheel for wget (setup.py) ... \u001b[?25l\u001b[?25hdone\n",
            "  Created wheel for wget: filename=wget-3.2-py3-none-any.whl size=9672 sha256=b1cad9d2ec46045bda2e92402c66f2ff7b1b6816ded9ef222c18731b2554aae2\n",
            "  Stored in directory: /root/.cache/pip/wheels/a1/b6/7c/0e63e34eb06634181c63adacca38b79ff8f35c37e3c13e3c02\n",
            "Successfully built ibm-watson ibm-cloud-sdk-core wget\n",
            "Installing collected packages: PyJWT, websocket-client, ibm-cloud-sdk-core, wget, ibm-watson\n",
            "Successfully installed PyJWT-2.1.0 ibm-cloud-sdk-core-3.11.0 ibm-watson-5.2.2 websocket-client-1.1.0 wget-3.2\n"
          ],
          "name": "stdout"
        }
      ]
    },
    {
      "cell_type": "markdown",
      "metadata": {
        "id": "Rg8vWXdFsMnv"
      },
      "source": [
        "<h2 id=\"ref0\">Speech to Text</h2>\n"
      ]
    },
    {
      "cell_type": "markdown",
      "metadata": {
        "id": "SQ73M5L0sMnw"
      },
      "source": [
        "<p>First we import <code>SpeechToTextV1</code> from <code>ibm_watson</code>. For more information on the API, please click on this <a href=\"https://cloud.ibm.com/apidocs/speech-to-text?utm_medium=Exinfluencer&utm_source=Exinfluencer&utm_content=000026UJ&utm_term=10006555&utm_id=NA-SkillsNetwork-Channel-SkillsNetworkCoursesIBMDeveloperSkillsNetworkPY0101ENSkillsNetwork19487395-2021-01-01&code=python\">link</a>.</p>\n"
      ]
    },
    {
      "cell_type": "code",
      "metadata": {
        "jupyter": {
          "outputs_hidden": false
        },
        "id": "N4KHkBydsMnx"
      },
      "source": [
        "from ibm_watson import SpeechToTextV1 \n",
        "import json\n",
        "from ibm_cloud_sdk_core.authenticators import IAMAuthenticator"
      ],
      "execution_count": 2,
      "outputs": []
    },
    {
      "cell_type": "markdown",
      "metadata": {
        "id": "0H_AvPh-sMny"
      },
      "source": [
        "<p>The service endpoint is based on the location of the service instance, we store the information in the variable URL. To find out which URL to use, view the service credentials and paste the url here.</p>\n"
      ]
    },
    {
      "cell_type": "code",
      "metadata": {
        "id": "lAGgitWUsMn0"
      },
      "source": [
        "url_s2t = \"\""
      ],
      "execution_count": 3,
      "outputs": []
    },
    {
      "cell_type": "markdown",
      "metadata": {
        "id": "9UifK2gisMn1"
      },
      "source": [
        "<p>You require an API key, and you can obtain the key on the <a href=\"https://cloud.ibm.com/resources?utm_medium=Exinfluencer&utm_source=Exinfluencer&utm_content=000026UJ&utm_term=10006555&utm_id=NA-SkillsNetwork-Channel-SkillsNetworkCoursesIBMDeveloperSkillsNetworkPY0101ENSkillsNetwork19487395-2021-01-01\">Dashboard </a>.</p>\n"
      ]
    },
    {
      "cell_type": "code",
      "metadata": {
        "jupyter": {
          "outputs_hidden": false
        },
        "id": "TAjlp44zsMn2"
      },
      "source": [
        "iam_apikey_s2t = \"\""
      ],
      "execution_count": 4,
      "outputs": []
    },
    {
      "cell_type": "markdown",
      "metadata": {
        "id": "YFnBABr1sMn3"
      },
      "source": [
        "<p>You create a <a href=\"http://watson-developer-cloud.github.io/python-sdk/v0.25.0/apis/watson_developer_cloud.speech_to_text_v1.html?utm_medium=Exinfluencer&utm_source=Exinfluencer&utm_content=000026UJ&utm_term=10006555&utm_id=NA-SkillsNetwork-Channel-SkillsNetworkCoursesIBMDeveloperSkillsNetworkPY0101ENSkillsNetwork19487395-2021-01-01\">Speech To Text Adapter object</a> the parameters are the endpoint and API key.</p>\n"
      ]
    },
    {
      "cell_type": "code",
      "metadata": {
        "id": "3xWsF5MzsMn3",
        "colab": {
          "base_uri": "https://localhost:8080/"
        },
        "outputId": "bd3e3ce0-8f25-4233-9208-7373335c5488"
      },
      "source": [
        "authenticator = IAMAuthenticator(iam_apikey_s2t)\n",
        "s2t = SpeechToTextV1(authenticator=authenticator)\n",
        "s2t.set_service_url(url_s2t)\n",
        "s2t"
      ],
      "execution_count": 5,
      "outputs": [
        {
          "output_type": "execute_result",
          "data": {
            "text/plain": [
              "<ibm_watson.speech_to_text_v1_adapter.SpeechToTextV1Adapter at 0x7fb3151b3ed0>"
            ]
          },
          "metadata": {
            "tags": []
          },
          "execution_count": 5
        }
      ]
    },
    {
      "cell_type": "markdown",
      "metadata": {
        "id": "VJy_KpsksMn4"
      },
      "source": [
        "<p>Lets download the audio file that we will use to convert into text.</p>\n"
      ]
    },
    {
      "cell_type": "code",
      "metadata": {
        "id": "zBdsDSYNsMn5",
        "colab": {
          "base_uri": "https://localhost:8080/"
        },
        "outputId": "d29bf8f3-0ff2-4c18-de8b-bfaa37281e30"
      },
      "source": [
        "!wget -O PolynomialRegressionandPipelines.mp3  https://cf-courses-data.s3.us.cloud-object-storage.appdomain.cloud/IBMDeveloperSkillsNetwork-PY0101EN-SkillsNetwork/labs/Module%205/data/PolynomialRegressionandPipelines.mp3\n",
        "\n"
      ],
      "execution_count": 9,
      "outputs": [
        {
          "output_type": "stream",
          "text": [
            "--2021-08-16 08:14:59--  https://cf-courses-data.s3.us.cloud-object-storage.appdomain.cloud/IBMDeveloperSkillsNetwork-PY0101EN-SkillsNetwork/labs/Module%205/data/PolynomialRegressionandPipelines.mp3\n",
            "Resolving cf-courses-data.s3.us.cloud-object-storage.appdomain.cloud (cf-courses-data.s3.us.cloud-object-storage.appdomain.cloud)... 169.63.118.104\n",
            "Connecting to cf-courses-data.s3.us.cloud-object-storage.appdomain.cloud (cf-courses-data.s3.us.cloud-object-storage.appdomain.cloud)|169.63.118.104|:443... connected.\n",
            "HTTP request sent, awaiting response... 200 OK\n",
            "Length: 4234179 (4.0M) [audio/mpeg]\n",
            "Saving to: ‘PolynomialRegressionandPipelines.mp3’\n",
            "\n",
            "PolynomialRegressio 100%[===================>]   4.04M  26.4MB/s    in 0.2s    \n",
            "\n",
            "2021-08-16 08:15:00 (26.4 MB/s) - ‘PolynomialRegressionandPipelines.mp3’ saved [4234179/4234179]\n",
            "\n"
          ],
          "name": "stdout"
        }
      ]
    },
    {
      "cell_type": "markdown",
      "metadata": {
        "id": "FhUefrXtsMn6"
      },
      "source": [
        "<p>We have the path of the .wav file we would like to convert to text</p>\n"
      ]
    },
    {
      "cell_type": "code",
      "metadata": {
        "jupyter": {
          "outputs_hidden": false
        },
        "id": "99XGeolVsMn6"
      },
      "source": [
        "filename='PolynomialRegressionandPipelines.mp3'"
      ],
      "execution_count": 7,
      "outputs": []
    },
    {
      "cell_type": "markdown",
      "metadata": {
        "id": "RLCs8IXksMn7"
      },
      "source": [
        "<p>We create the file object <code>wav</code> with the wav file using <code>open</code>. We set the <code>mode</code> to  \"rb\" ,  this is similar to read mode, but it ensures the file is in binary mode. We use the method <code>recognize</code> to return the recognized text. The parameter <code>audio</code> is the file object <code>wav</code>, the parameter <code>content_type</code> is the format of the audio file.</p>\n"
      ]
    },
    {
      "cell_type": "code",
      "metadata": {
        "jupyter": {
          "outputs_hidden": false
        },
        "id": "J5iOoL5BsMn7",
        "colab": {
          "base_uri": "https://localhost:8080/",
          "height": 320
        },
        "outputId": "c2cafb42-b084-40cf-ae4c-6083ed118566"
      },
      "source": [
        "with open(filename, mode=\"rb\")  as wav:\n",
        "    response = s2t.recognize(audio=wav, content_type='audio/mp3')"
      ],
      "execution_count": 12,
      "outputs": [
        {
          "output_type": "error",
          "ename": "ValueError",
          "evalue": "ignored",
          "traceback": [
            "\u001b[0;31m---------------------------------------------------------------------------\u001b[0m",
            "\u001b[0;31mValueError\u001b[0m                                Traceback (most recent call last)",
            "\u001b[0;32m<ipython-input-12-f84fab0fe42d>\u001b[0m in \u001b[0;36m<module>\u001b[0;34m()\u001b[0m\n\u001b[1;32m      1\u001b[0m \u001b[0;32mwith\u001b[0m \u001b[0mopen\u001b[0m\u001b[0;34m(\u001b[0m\u001b[0mfilename\u001b[0m\u001b[0;34m,\u001b[0m \u001b[0mmode\u001b[0m\u001b[0;34m=\u001b[0m\u001b[0;34m\"rb\"\u001b[0m\u001b[0;34m)\u001b[0m  \u001b[0;32mas\u001b[0m \u001b[0mwav\u001b[0m\u001b[0;34m:\u001b[0m\u001b[0;34m\u001b[0m\u001b[0;34m\u001b[0m\u001b[0m\n\u001b[0;32m----> 2\u001b[0;31m     \u001b[0mresponse\u001b[0m \u001b[0;34m=\u001b[0m \u001b[0ms2t\u001b[0m\u001b[0;34m.\u001b[0m\u001b[0mrecognize\u001b[0m\u001b[0;34m(\u001b[0m\u001b[0maudio\u001b[0m\u001b[0;34m=\u001b[0m\u001b[0mwav\u001b[0m\u001b[0;34m,\u001b[0m \u001b[0mcontent_type\u001b[0m\u001b[0;34m=\u001b[0m\u001b[0;34m'audio/mp3'\u001b[0m\u001b[0;34m)\u001b[0m\u001b[0;34m\u001b[0m\u001b[0;34m\u001b[0m\u001b[0m\n\u001b[0m",
            "\u001b[0;32m/usr/local/lib/python3.7/dist-packages/ibm_watson/speech_to_text_v1.py\u001b[0m in \u001b[0;36mrecognize\u001b[0;34m(self, audio, content_type, model, language_customization_id, acoustic_customization_id, base_model_version, customization_weight, inactivity_timeout, keywords, keywords_threshold, max_alternatives, word_alternatives_threshold, word_confidence, timestamps, profanity_filter, smart_formatting, speaker_labels, customization_id, grammar_name, redaction, audio_metrics, end_of_phrase_silence_time, split_transcript_at_phrase_end, speech_detector_sensitivity, background_audio_suppression, low_latency, **kwargs)\u001b[0m\n\u001b[1;32m    562\u001b[0m                                        \u001b[0mheaders\u001b[0m\u001b[0;34m=\u001b[0m\u001b[0mheaders\u001b[0m\u001b[0;34m,\u001b[0m\u001b[0;34m\u001b[0m\u001b[0;34m\u001b[0m\u001b[0m\n\u001b[1;32m    563\u001b[0m                                        \u001b[0mparams\u001b[0m\u001b[0;34m=\u001b[0m\u001b[0mparams\u001b[0m\u001b[0;34m,\u001b[0m\u001b[0;34m\u001b[0m\u001b[0;34m\u001b[0m\u001b[0m\n\u001b[0;32m--> 564\u001b[0;31m                                        data=data)\n\u001b[0m\u001b[1;32m    565\u001b[0m \u001b[0;34m\u001b[0m\u001b[0m\n\u001b[1;32m    566\u001b[0m         \u001b[0mresponse\u001b[0m \u001b[0;34m=\u001b[0m \u001b[0mself\u001b[0m\u001b[0;34m.\u001b[0m\u001b[0msend\u001b[0m\u001b[0;34m(\u001b[0m\u001b[0mrequest\u001b[0m\u001b[0;34m)\u001b[0m\u001b[0;34m\u001b[0m\u001b[0;34m\u001b[0m\u001b[0m\n",
            "\u001b[0;32m/usr/local/lib/python3.7/dist-packages/ibm_cloud_sdk_core/base_service.py\u001b[0m in \u001b[0;36mprepare_request\u001b[0;34m(self, method, url, headers, params, data, files, **kwargs)\u001b[0m\n\u001b[1;32m    358\u001b[0m         \u001b[0;31m# validate the service url is set\u001b[0m\u001b[0;34m\u001b[0m\u001b[0;34m\u001b[0m\u001b[0;34m\u001b[0m\u001b[0m\n\u001b[1;32m    359\u001b[0m         \u001b[0;32mif\u001b[0m \u001b[0;32mnot\u001b[0m \u001b[0mself\u001b[0m\u001b[0;34m.\u001b[0m\u001b[0mservice_url\u001b[0m\u001b[0;34m:\u001b[0m\u001b[0;34m\u001b[0m\u001b[0;34m\u001b[0m\u001b[0m\n\u001b[0;32m--> 360\u001b[0;31m             \u001b[0;32mraise\u001b[0m \u001b[0mValueError\u001b[0m\u001b[0;34m(\u001b[0m\u001b[0;34m'The service_url is required'\u001b[0m\u001b[0;34m)\u001b[0m\u001b[0;34m\u001b[0m\u001b[0;34m\u001b[0m\u001b[0m\n\u001b[0m\u001b[1;32m    361\u001b[0m         \u001b[0mrequest\u001b[0m\u001b[0;34m[\u001b[0m\u001b[0;34m'url'\u001b[0m\u001b[0;34m]\u001b[0m \u001b[0;34m=\u001b[0m \u001b[0mstrip_extra_slashes\u001b[0m\u001b[0;34m(\u001b[0m\u001b[0mself\u001b[0m\u001b[0;34m.\u001b[0m\u001b[0mservice_url\u001b[0m \u001b[0;34m+\u001b[0m \u001b[0murl\u001b[0m\u001b[0;34m)\u001b[0m\u001b[0;34m\u001b[0m\u001b[0;34m\u001b[0m\u001b[0m\n\u001b[1;32m    362\u001b[0m \u001b[0;34m\u001b[0m\u001b[0m\n",
            "\u001b[0;31mValueError\u001b[0m: The service_url is required"
          ]
        }
      ]
    },
    {
      "cell_type": "markdown",
      "metadata": {
        "id": "7bdM46LzsMn8"
      },
      "source": [
        "<p>The attribute result contains a dictionary that includes the translation:</p>\n"
      ]
    },
    {
      "cell_type": "code",
      "metadata": {
        "id": "wRGeXKcOsMn8",
        "colab": {
          "base_uri": "https://localhost:8080/",
          "height": 162
        },
        "outputId": "e661bf6a-6e69-4b24-92ac-eb59b0aaead5"
      },
      "source": [
        "response.result"
      ],
      "execution_count": 11,
      "outputs": [
        {
          "output_type": "error",
          "ename": "NameError",
          "evalue": "ignored",
          "traceback": [
            "\u001b[0;31m---------------------------------------------------------------------------\u001b[0m",
            "\u001b[0;31mNameError\u001b[0m                                 Traceback (most recent call last)",
            "\u001b[0;32m<ipython-input-11-8e95a0f1890d>\u001b[0m in \u001b[0;36m<module>\u001b[0;34m()\u001b[0m\n\u001b[0;32m----> 1\u001b[0;31m \u001b[0mresponse\u001b[0m\u001b[0;34m.\u001b[0m\u001b[0mresult\u001b[0m\u001b[0;34m\u001b[0m\u001b[0;34m\u001b[0m\u001b[0m\n\u001b[0m",
            "\u001b[0;31mNameError\u001b[0m: name 'response' is not defined"
          ]
        }
      ]
    },
    {
      "cell_type": "code",
      "metadata": {
        "id": "BbeDW5yzsMn9"
      },
      "source": [
        "from pandas import json_normalize\n",
        "\n",
        "json_normalize(response.result['results'],\"alternatives\")"
      ],
      "execution_count": null,
      "outputs": []
    },
    {
      "cell_type": "code",
      "metadata": {
        "id": "ZgS8F96MsMn9"
      },
      "source": [
        "response"
      ],
      "execution_count": null,
      "outputs": []
    },
    {
      "cell_type": "markdown",
      "metadata": {
        "id": "bRXy2o2KsMn-"
      },
      "source": [
        "<p>We can obtain the recognized text and assign it to the variable <code>recognized_text</code>:</p>\n"
      ]
    },
    {
      "cell_type": "code",
      "metadata": {
        "jupyter": {
          "outputs_hidden": false
        },
        "id": "C4y0lgxXsMn-"
      },
      "source": [
        "recognized_text=response.result['results'][0][\"alternatives\"][0][\"transcript\"]\n",
        "type(recognized_text)"
      ],
      "execution_count": null,
      "outputs": []
    },
    {
      "cell_type": "markdown",
      "metadata": {
        "id": "9SmhZjTVsMn_"
      },
      "source": [
        "<h2 id=\"ref1\">Language Translator</h2>\n"
      ]
    },
    {
      "cell_type": "markdown",
      "metadata": {
        "id": "BKDcUdf2sMn_"
      },
      "source": [
        "<p>First we import <code>LanguageTranslatorV3</code> from ibm_watson. For more information on the API click <a href=\"https://cloud.ibm.com/apidocs/speech-to-text?utm_medium=Exinfluencer&utm_source=Exinfluencer&utm_content=000026UJ&utm_term=10006555&utm_id=NA-SkillsNetwork-Channel-SkillsNetworkCoursesIBMDeveloperSkillsNetworkPY0101ENSkillsNetwork19487395-2021-01-01&code=python\"> here</a></p>\n"
      ]
    },
    {
      "cell_type": "code",
      "metadata": {
        "id": "I81eLALSsMoA"
      },
      "source": [
        "from ibm_watson import LanguageTranslatorV3"
      ],
      "execution_count": null,
      "outputs": []
    },
    {
      "cell_type": "markdown",
      "metadata": {
        "id": "GHcIHo0osMoB"
      },
      "source": [
        "<p>The service endpoint is based on the location of the service instance, we store the information in the variable URL. To find out which URL to use, view the service credentials.</p>\n"
      ]
    },
    {
      "cell_type": "code",
      "metadata": {
        "jupyter": {
          "outputs_hidden": false
        },
        "id": "UVS2s3VZsMoB"
      },
      "source": [
        "url_lt=''"
      ],
      "execution_count": null,
      "outputs": []
    },
    {
      "cell_type": "markdown",
      "metadata": {
        "id": "VXfBAmonsMoC"
      },
      "source": [
        "<p>You require an API key, and you can obtain the key on the <a href=\"https://cloud.ibm.com/resources?utm_medium=Exinfluencer&utm_source=Exinfluencer&utm_content=000026UJ&utm_term=10006555&utm_id=NA-SkillsNetwork-Channel-SkillsNetworkCoursesIBMDeveloperSkillsNetworkPY0101ENSkillsNetwork19487395-2021-01-01\">Dashboard</a>.</p>\n"
      ]
    },
    {
      "cell_type": "code",
      "metadata": {
        "jupyter": {
          "outputs_hidden": false
        },
        "id": "oilEST7esMoD"
      },
      "source": [
        "apikey_lt=''"
      ],
      "execution_count": null,
      "outputs": []
    },
    {
      "cell_type": "markdown",
      "metadata": {
        "id": "TogJZ6QksMoE"
      },
      "source": [
        "<p>API requests require a version parameter that takes a date in the format version=YYYY-MM-DD. This lab describes the current version of Language Translator, 2018-05-01</p>\n"
      ]
    },
    {
      "cell_type": "code",
      "metadata": {
        "jupyter": {
          "outputs_hidden": false
        },
        "id": "JA2o35z4sMoF"
      },
      "source": [
        "version_lt='2018-05-01'"
      ],
      "execution_count": null,
      "outputs": []
    },
    {
      "cell_type": "markdown",
      "metadata": {
        "id": "Qn8-k8MPsMoF"
      },
      "source": [
        "<p>we create a  Language Translator object <code>language_translator</code>:</p>\n"
      ]
    },
    {
      "cell_type": "code",
      "metadata": {
        "jupyter": {
          "outputs_hidden": false
        },
        "id": "a51yqODgsMoF"
      },
      "source": [
        "authenticator = IAMAuthenticator(apikey_lt)\n",
        "language_translator = LanguageTranslatorV3(version=version_lt,authenticator=authenticator)\n",
        "language_translator.set_service_url(url_lt)\n",
        "language_translator"
      ],
      "execution_count": null,
      "outputs": []
    },
    {
      "cell_type": "markdown",
      "metadata": {
        "id": "jToWN4TxsMoG"
      },
      "source": [
        "<p>We can get a Lists the languages that the service can identify.\n",
        "The method Returns the language code.  For example English (en) to  Spanis (es) and name of each language.</p>\n"
      ]
    },
    {
      "cell_type": "code",
      "metadata": {
        "jupyter": {
          "outputs_hidden": false
        },
        "id": "yHlU673-sMoH"
      },
      "source": [
        "from pandas import json_normalize\n",
        "\n",
        "json_normalize(language_translator.list_identifiable_languages().get_result(), \"languages\")"
      ],
      "execution_count": null,
      "outputs": []
    },
    {
      "cell_type": "markdown",
      "metadata": {
        "id": "wlDnjChXsMoH"
      },
      "source": [
        "<p>We can use the method <code>translate</code>. This will translate the text. The parameter text is the text, Model_id is the type of model we would like to use use we use list the language. In this case, we set it to 'en-es' or English to Spanish. We get a Detailed Response object translation_response</p>\n"
      ]
    },
    {
      "cell_type": "code",
      "metadata": {
        "jupyter": {
          "outputs_hidden": false
        },
        "id": "ZsL4CTAcsMoI"
      },
      "source": [
        "translation_response = language_translator.translate(\\\n",
        "    text=recognized_text, model_id='en-es')\n",
        "translation_response"
      ],
      "execution_count": null,
      "outputs": []
    },
    {
      "cell_type": "markdown",
      "metadata": {
        "id": "NtfZt6EmsMoJ"
      },
      "source": [
        "<p>The result is a dictionary.</p>\n"
      ]
    },
    {
      "cell_type": "code",
      "metadata": {
        "jupyter": {
          "outputs_hidden": false
        },
        "id": "_7L_xuWZsMoJ"
      },
      "source": [
        "translation=translation_response.get_result()\n",
        "translation"
      ],
      "execution_count": null,
      "outputs": []
    },
    {
      "cell_type": "markdown",
      "metadata": {
        "id": "5ddd2NURsMoK"
      },
      "source": [
        "<p>We can obtain the actual translation as a string as follows:</p>\n"
      ]
    },
    {
      "cell_type": "code",
      "metadata": {
        "id": "aLx_rap1sMoK"
      },
      "source": [
        "spanish_translation =translation['translations'][0]['translation']\n",
        "spanish_translation "
      ],
      "execution_count": null,
      "outputs": []
    },
    {
      "cell_type": "markdown",
      "metadata": {
        "id": "gnQFfcu3sMoL"
      },
      "source": [
        "<p>We can translate back to English</p>\n"
      ]
    },
    {
      "cell_type": "code",
      "metadata": {
        "id": "VsB8d_ensMoL"
      },
      "source": [
        "translation_new = language_translator.translate(text=spanish_translation ,model_id='es-en').get_result()"
      ],
      "execution_count": null,
      "outputs": []
    },
    {
      "cell_type": "markdown",
      "metadata": {
        "id": "YVO1Qkd9sMoM"
      },
      "source": [
        "<p>We can obtain the actual translation as a string as follows:</p>\n"
      ]
    },
    {
      "cell_type": "code",
      "metadata": {
        "id": "ldUN7WbBsMoM"
      },
      "source": [
        "translation_eng=translation_new['translations'][0]['translation']\n",
        "translation_eng"
      ],
      "execution_count": null,
      "outputs": []
    },
    {
      "cell_type": "markdown",
      "metadata": {
        "id": "57DXPWAGsMoN"
      },
      "source": [
        "<br>\n"
      ]
    },
    {
      "cell_type": "markdown",
      "metadata": {
        "id": "zVoBDLHgsMoN"
      },
      "source": [
        "<h2>Quiz</h2>\n"
      ]
    },
    {
      "cell_type": "markdown",
      "metadata": {
        "id": "48-rZzEqsMoO"
      },
      "source": [
        "Translate to French.\n"
      ]
    },
    {
      "cell_type": "code",
      "metadata": {
        "id": "tvk5tFyhsMoO"
      },
      "source": [
        "# Write your code below and press Shift+Enter to execute\n",
        "translation_new2 = language_translator.translate(text=translation_eng ,model_id='en-fr').get_result()\n",
        "translation_french=translation_new2['translations'][0]['translation']\n",
        "translation_french"
      ],
      "execution_count": null,
      "outputs": []
    },
    {
      "cell_type": "markdown",
      "metadata": {
        "id": "ojVQRY_gsMoO"
      },
      "source": [
        "<details><summary>Click here for the solution</summary>\n",
        "\n",
        "```python\n",
        "French_translation=language_translator.translate(\n",
        "    text=translation_eng , model_id='en-fr').get_result()\n",
        "\n",
        "French_translation['translations'][0]['translation']\n",
        "\n",
        "```\n",
        "\n",
        "</details>\n"
      ]
    },
    {
      "cell_type": "markdown",
      "metadata": {
        "id": "lcOLtGjJsMoP"
      },
      "source": [
        "<h3>Language Translator</h3>\n"
      ]
    },
    {
      "cell_type": "markdown",
      "metadata": {
        "id": "wIWVkUMmsMoQ"
      },
      "source": [
        "<b>References</b>\n"
      ]
    },
    {
      "cell_type": "markdown",
      "metadata": {
        "id": "lxBJW9TPsMoR"
      },
      "source": [
        "https://cloud.ibm.com/apidocs/speech-to-text?code=python\n"
      ]
    },
    {
      "cell_type": "markdown",
      "metadata": {
        "id": "7VPvcH7tsMoR"
      },
      "source": [
        "https://cloud.ibm.com/apidocs/language-translator?code=python\n"
      ]
    },
    {
      "cell_type": "markdown",
      "metadata": {
        "id": "KRExctRUsMoS"
      },
      "source": [
        "<hr>\n"
      ]
    },
    {
      "cell_type": "markdown",
      "metadata": {
        "id": "Zs0Z807wsMoS"
      },
      "source": [
        "## Authors:\n",
        "\n",
        "[Joseph Santarcangelo](https://www.linkedin.com/in/joseph-s-50398b136/?utm_medium=Exinfluencer\\&utm_source=Exinfluencer\\&utm_content=000026UJ\\&utm_term=10006555\\&utm_id=NA-SkillsNetwork-Channel-SkillsNetworkCoursesIBMDeveloperSkillsNetworkPY0101ENSkillsNetwork19487395-2021-01-01)\n",
        "\n",
        "Joseph Santarcangelo has a PhD in Electrical Engineering, his research focused on using machine learning, signal processing, and computer vision to determine how videos impact human cognition. Joseph has been working for IBM since he completed his PhD.\n",
        "\n",
        "## Other Contributor(s)\n",
        "\n",
        "<a href=\"https://www.linkedin.com/in/fanjiang0619/?utm_medium=Exinfluencer&utm_source=Exinfluencer&utm_content=000026UJ&utm_term=10006555&utm_id=NA-SkillsNetwork-Channel-SkillsNetworkCoursesIBMDeveloperSkillsNetworkPY0101ENSkillsNetwork19487395-2021-01-01\">Fan Jiang</a>\n",
        "\n",
        "## Change Log\n",
        "\n",
        "|  Date (YYYY-MM-DD) |  Version | Changed By  |  Change Description |\n",
        "|---|---|---|---|\n",
        "| 2021-04-07 | 2.2 | Malika | Updated the libraries |\n",
        "| 2021-01-05 | 2.1 | Malika | Added a library |\n",
        "| 2020-08-26  | 2.0  | Lavanya | Moved lab to course repo in GitLab |\n",
        "|   |   |   |   |\n",
        "|   |   |   |   |\n",
        "\n",
        "<hr/>\n",
        "\n",
        "## <h3 align=\"center\"> © IBM Corporation 2020. All rights reserved. <h3/>\n"
      ]
    }
  ]
}