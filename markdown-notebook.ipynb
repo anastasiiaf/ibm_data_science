{
    "cells": [
        {
            "metadata": {},
            "cell_type": "markdown",
            "source": "# My Jupyter Notebook on IBM Watson Studio"
        },
        {
            "metadata": {},
            "cell_type": "markdown",
            "source": "**Anastasiia Filchenko**  \nData Analyst"
        },
        {
            "metadata": {},
            "cell_type": "markdown",
            "source": "*I am interested in data science because I like solving problems, have a passion for coding and simply enjoy learning new things!*"
        },
        {
            "metadata": {},
            "cell_type": "markdown",
            "source": "# Executable Code \n### Asking user to enter his/her name and calling a function which prints \"Hello, \" + user name"
        },
        {
            "metadata": {},
            "cell_type": "code",
            "source": "def say_hi(name):\n    print(\"Hello, \", name)\n    \nname = input(\"Enter your name: \") \nsay_hi(name)",
            "execution_count": 1,
            "outputs": [
                {
                    "output_type": "stream",
                    "name": "stdout",
                    "text": "Enter your name: Ny\nHello,  Ny\n"
                }
            ]
        },
        {
            "metadata": {},
            "cell_type": "markdown",
            "source": "# Markdown Cheat Sheet"
        },
        {
            "metadata": {
                "collapsed": true
            },
            "cell_type": "markdown",
            "source": "# 1. Headers\n___\n\n# To get this size, put # before your header\n## To get this size, put ## before your header\n### To get this size, put ### before your header\n#### To get this size, put #### before your header\n##### To get this size, put ##### before your header\n###### To get this size, put ###### before your header"
        },
        {
            "metadata": {},
            "cell_type": "markdown",
            "source": "# 2. Emphasis\n___\n\nTo make your text **bold**, put two stars or two underlines before and after text   \nTo make your text *italic*, put star or underline before and after text   \nTo make your text both **_bold and italic_**, put two stars and underline before and after text"
        },
        {
            "metadata": {},
            "cell_type": "markdown",
            "source": "# 3. Lists\n___\n\n**Ordered list:**\n1. Item 1\n2. Item 2\n3. Item 3\n\n**Unordered list:**\n* put * \n- or put -\n+ or put +\n\n**Ordered list with indented unordered lists:**\n1. Item 1\n   * item 1.1 (add 3 spaces before text to get indention)\n      * item 1.1.a\n      * item 1.1.b\n      * item 1.1.c\n   * item 1.2  \n      to have a line break, add 2 spaces after text         \n   * item 1.3 \n2. Item 2\n3. Item 3"
        },
        {
            "metadata": {},
            "cell_type": "markdown",
            "source": "# 4. Links\n___\n\nFormat: Link text in square brackets followed by URL in round brackets:  \n[IBM Watson link](https://www.ibm.com/no-en)\n\nYou can add title to link in round brackets: (URL \"Title to show\")  \n[IBM Watson link with title](https://www.ibm.com/no-en \"IBM Watson Homepage\")\n"
        },
        {
            "metadata": {},
            "cell_type": "markdown",
            "source": "# 5. Images\n___\n\nFormat: `![alt text](https://images.jpg \"Flower\")`   \n![Flower](Lunar-Reconnaissance-Orbiter-Moon-scaled.jpg \"Flower\")\n"
        },
        {
            "metadata": {},
            "cell_type": "markdown",
            "source": "# 6. Inline code\n___\n\nTo have `snippets of code` in your markdown lines, put back-ticks around code.\n\n```python\nprint \"Hello world!\"\n```"
        },
        {
            "metadata": {},
            "cell_type": "markdown",
            "source": "# 7. Tables\n___\n\nAdding columns to the table is done by putting pipeline as column separator.  \nPut a row with dashes right after the header. There must be at least 3 dashes separating each header cell.  \n\nA | Simple | Table | Done | Easily \n--- | --- | --- | --- | --- \nJust | Use | Pipelines | And | Dashes\nTo | Separate | Each | Cell | !"
        },
        {
            "metadata": {},
            "cell_type": "markdown",
            "source": "# 8. Video\n___\n\nFormat: `[![image alt text](https://images.jpg)](https://www.youtube.com/video)`\n[![Enjoy some music](https://unsplash.com/photos/gUK3lA3K7Yo)](https://www.youtube.com/watch?v=5qap5aO4i9A)"
        }
    ],
    "metadata": {
        "kernelspec": {
            "name": "python3",
            "display_name": "Python 3.7",
            "language": "python"
        },
        "language_info": {
            "name": "python",
            "version": "3.7.10",
            "mimetype": "text/x-python",
            "codemirror_mode": {
                "name": "ipython",
                "version": 3
            },
            "pygments_lexer": "ipython3",
            "nbconvert_exporter": "python",
            "file_extension": ".py"
        }
    },
    "nbformat": 4,
    "nbformat_minor": 1
}